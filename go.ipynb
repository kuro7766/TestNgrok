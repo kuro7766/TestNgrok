{
 "cells": [
  {
   "cell_type": "code",
   "execution_count": 1,
   "id": "e112d31b-254a-4c56-9f28-d0ec4b970d8e",
   "metadata": {},
   "outputs": [],
   "source": [
    "# https://ecd6-13-73-34-229.ngrok-free.app/?token=123456\n",
    "import subprocess"
   ]
  },
  {
   "cell_type": "code",
   "execution_count": 2,
   "id": "ce71feff-fda6-4436-93f1-dcb42f8e5ed5",
   "metadata": {},
   "outputs": [],
   "source": [
    "def cmd_run(cmd,workspace = None,return_cmd = False):\n",
    "    if workspace:\n",
    "        cmd = 'cd %s && %s' %(workspace,cmd)\n",
    "    if return_cmd:\n",
    "        return cmd\n",
    "    result = subprocess.getoutput(cmd)\n",
    "    \n",
    "    return result"
   ]
  },
  {
   "cell_type": "code",
   "execution_count": 3,
   "id": "3f189fb9-f162-4c18-a6f4-e1de1478b04f",
   "metadata": {},
   "outputs": [
    {
     "data": {
      "text/plain": [
       "'mkdir: cannot create directory ‘output_dir’: File exists'"
      ]
     },
     "execution_count": 3,
     "metadata": {},
     "output_type": "execute_result"
    }
   ],
   "source": [
    "cmd_run('mkdir pdf_dir')\n",
    "cmd_run('mkdir figures_tmp')\n",
    "cmd_run('mkdir output_dir')"
   ]
  },
  {
   "cell_type": "code",
   "execution_count": 4,
   "id": "63cbdf4c-8e20-4894-bd7b-567c748f32fa",
   "metadata": {},
   "outputs": [
    {
     "name": "stdout",
     "output_type": "stream",
     "text": [
      "Defaulting to user installation because normal site-packages is not writeable\n",
      "Requirement already satisfied: arxiv-downloader in /home/runner/.local/lib/python3.10/site-packages (0.0.1)\n",
      "Requirement already satisfied: arxiv==1.2.0 in /home/runner/.local/lib/python3.10/site-packages (from arxiv-downloader) (1.2.0)\n",
      "Requirement already satisfied: feedparser in /home/runner/.local/lib/python3.10/site-packages (from arxiv==1.2.0->arxiv-downloader) (6.0.11)\n",
      "Requirement already satisfied: sgmllib3k in /home/runner/.local/lib/python3.10/site-packages (from feedparser->arxiv==1.2.0->arxiv-downloader) (1.0.0)\n"
     ]
    }
   ],
   "source": [
    "!pip install arxiv-downloader\n"
   ]
  },
  {
   "cell_type": "code",
   "execution_count": 5,
   "id": "5424a314-d9bd-41f1-a0aa-81ada2a74e0d",
   "metadata": {},
   "outputs": [],
   "source": [
    "with open('arxiv_cmd') as f:\n",
    "    command = f.read()\n",
    "# command = '''\n",
    "# cd pdf_dir && rm *\n",
    "# arxiv-downloader --url https://arxiv.org/pdf/2110.01889\n",
    "# arxiv-downloader --url https://arxiv.org/abs/2110.01889\n",
    "# arxiv-downloader --url https://arxiv.org/abs/2305.18446\n",
    "# cd ..\n",
    "# '''"
   ]
  },
  {
   "cell_type": "code",
   "execution_count": 6,
   "id": "e6b2e330-60b4-4a34-9608-e5549270b69e",
   "metadata": {},
   "outputs": [
    {
     "data": {
      "text/plain": [
       "'Starting download of article: \"Multi-Task Deep Recommender Systems: A Survey\" (2302.03525)\\nDownload finished! Result saved at:\\n./2302.03525v2.Multi_Task_Deep_Recommender_Systems_A_Survey.pdf\\nStarting download of article: \"Deep Meta-learning in Recommendation Systems: A Survey\" (2206.04415)\\nDownload finished! Result saved at:\\n./2206.04415v1.Deep_Meta_learning_in_Recommendation_Systems_A_Survey.pdf\\nStarting download of article: \"Evaluating and Enhancing Robustness of Deep Recommendation Systems Against Hardware Errors\" (2307.10244)\\nDownload finished! Result saved at:\\n./2307.10244v1.Evaluating_and_Enhancing_Robustness_of_Deep_Recommendation_Systems_Against_Hardware_Errors.pdf\\nStarting download of article: \"Deep Learning Recommendation Model for Personalization and Recommendation Systems\" (1906.00091)\\nDownload finished! Result saved at:\\n./1906.00091v1.Deep_Learning_Recommendation_Model_for_Personalization_and_Recommendation_Systems.pdf\\nStarting download of article: \"Multi-Task Deep Recommender Systems: A Survey\" (2302.03525)\\nDownload finished! Result saved at:\\n./2302.03525v2.Multi_Task_Deep_Recommender_Systems_A_Survey.pdf\\nStarting download of article: \"Learning Tree-based Deep Model for Recommender Systems\" (1801.02294)\\nDownload finished! Result saved at:\\n./1801.02294v5.Learning_Tree_based_Deep_Model_for_Recommender_Systems.pdf\\nStarting download of article: \"Deep Learning based Recommender System: A Survey and New Perspectives\" (1707.07435)\\nDownload finished! Result saved at:\\n./1707.07435v7.Deep_Learning_based_Recommender_System_A_Survey_and_New_Perspectives.pdf\\nStarting download of article: \"Deep Exploration for Recommendation Systems\" (2109.12509)\\nDownload finished! Result saved at:\\n./2109.12509v4.Deep_Exploration_for_Recommendation_Systems.pdf\\nStarting download of article: \"Deep Exploration for Recommendation Systems\" (2109.12509)\\nDownload finished! Result saved at:\\n./2109.12509v4.Deep_Exploration_for_Recommendation_Systems.pdf\\nStarting download of article: \"DeepProphet2 -- A Deep Learning Gene Recommendation Engine\" (2208.01918)\\nDownload finished! Result saved at:\\n./2208.01918v4.DeepProphet2_A_Deep_Learning_Gene_Recommendation_Engine.pdf\\nStarting download of article: \"BagPipe: Accelerating Deep Recommendation Model Training\" (2202.12429)\\nDownload finished! Result saved at:\\n./2202.12429v4.BagPipe_Accelerating_Deep_Recommendation_Model_Training.pdf\\nStarting download of article: \"Wide & Deep Learning for Recommender Systems\" (1606.07792)\\nDownload finished! Result saved at:\\n./1606.07792v1.Wide_Deep_Learning_for_Recommender_Systems.pdf\\nStarting download of article: \"When Newer is Not Better: Does Deep Learning Really Benefit Recommendation From Implicit Feedback?\" (2305.01801)\\nDownload finished! Result saved at:\\n./2305.01801v1.When_Newer_is_Not_Better_Does_Deep_Learning_Really_Benefit_Recommendation_From_Implicit_Feedback.pdf\\nStarting download of article: \"A Deep Hybrid Model for Recommendation Systems\" (2009.09748)\\nDownload finished! Result saved at:\\n./2009.09748v1.A_Deep_Hybrid_Model_for_Recommendation_Systems.pdf\\nStarting download of article: \"Deep Learning based Recommender System: A Survey and New Perspectives\" (1707.07435)\\nDownload finished! Result saved at:\\n./1707.07435v7.Deep_Learning_based_Recommender_System_A_Survey_and_New_Perspectives.pdf\\nStarting download of article: \"Building a Performance Model for Deep Learning Recommendation Model Training on GPUs\" (2201.07821)\\nDownload finished! Result saved at:\\n./2201.07821v2.Building_a_Performance_Model_for_Deep_Learning_Recommendation_Model_Training_on_GPUs.pdf\\nStarting download of article: \"Real-Time Learning from An Expert in Deep Recommendation Systems with Marginal Distance Probability Distribution\" (2110.06287)\\nDownload finished! Result saved at:\\n./2110.06287v2.Real_Time_Learning_from_An_Expert_in_Deep_Recommendation_Systems_with_Marginal_Distance_Probability_Distribution.pdf\\nStarting download of article: \"InTune: Reinforcement Learning-based Data Pipeline Optimization for Deep Recommendation Models\" (2308.08500)\\nDownload finished! Result saved at:\\n./2308.08500v1.InTune_Reinforcement_Learning_based_Data_Pipeline_Optimization_for_Deep_Recommendation_Models.pdf\\nStarting download of article: \"Deep Unified Representation for Heterogeneous Recommendation\" (2201.05861)\\nDownload finished! Result saved at:\\n./2201.05861v2.Deep_Unified_Representation_for_Heterogeneous_Recommendation.pdf\\nStarting download of article: \"Cross-Stack Workload Characterization of Deep Recommendation Systems\" (2010.05037)\\nDownload finished! Result saved at:\\n./2010.05037v1.Cross_Stack_Workload_Characterization_of_Deep_Recommendation_Systems.pdf\\nStarting download of article: \"Understanding Data Storage and Ingestion for Large-Scale Deep Recommendation Model Training\" (2108.09373)\\nDownload finished! Result saved at:\\n./2108.09373v4.Understanding_Data_Storage_and_Ingestion_for_Large_Scale_Deep_Recommendation_Model_Training.pdf\\nStarting download of article: \"Software-Hardware Co-design for Fast and Scalable Training of Deep Learning Recommendation Models\" (2104.05158)\\nDownload finished! Result saved at:\\n./2104.05158v7.Software_Hardware_Co_design_for_Fast_and_Scalable_Training_of_Deep_Learning_Recommendation_Models.pdf\\nStarting download of article: \"RecD: Deduplication for End-to-End Deep Learning Recommendation Model Training Infrastructure\" (2211.05239)\\nDownload finished! Result saved at:\\n./2211.05239v4.RecD_Deduplication_for_End_to_End_Deep_Learning_Recommendation_Model_Training_Infrastructure.pdf\\nStarting download of article: \"DDTCDR: Deep Dual Transfer Cross Domain Recommendation\" (1910.05189)\\nDownload finished! Result saved at:\\n./1910.05189v1.DDTCDR_Deep_Dual_Transfer_Cross_Domain_Recommendation.pdf\\nStarting download of article: \"Deep Neural Review Text Interaction for Recommendation Systems\" (2003.07051)\\nDownload finished! Result saved at:\\n./2003.07051v1.Deep_Neural_Review_Text_Interaction_for_Recommendation_Systems.pdf\\nStarting download of article: \"Deep Reinforcement Learning for List-wise Recommendations\" (1801.00209)\\nDownload finished! Result saved at:\\n./1801.00209v3.Deep_Reinforcement_Learning_for_List_wise_Recommendations.pdf\\nStarting download of article: \"Cross-Stack Workload Characterization of Deep Recommendation Systems\" (2010.05037)\\nDownload finished! Result saved at:\\n./2010.05037v1.Cross_Stack_Workload_Characterization_of_Deep_Recommendation_Systems.pdf\\nStarting download of article: \"DeepRec: An Open-source Toolkit for Deep Learning based Recommendation\" (1905.10536)\\nDownload finished! Result saved at:\\n./1905.10536v1.DeepRec_An_Open_source_Toolkit_for_Deep_Learning_based_Recommendation.pdf\\nStarting download of article: \"Formalizing Multimedia Recommendation through Multimodal Deep Learning\" (2309.05273)\\nDownload finished! Result saved at:\\n./2309.05273v1.Formalizing_Multimedia_Recommendation_through_Multimodal_Deep_Learning.pdf\\nStarting download of article: \"Deep Learning for Sequential Recommendation: Algorithms, Influential Factors, and Evaluations\" (1905.01997)\\nDownload finished! Result saved at:\\n./1905.01997v3.Deep_Learning_for_Sequential_Recommendation_Algorithms_Influential_Factors_and_Evaluations.pdf\\nStarting download of article: \"Recommendation system using a deep learning and graph analysis approach\" (2004.08100)\\nDownload finished! Result saved at:\\n./2004.08100v8.Recommendation_system_using_a_deep_learning_and_graph_analysis_approach.pdf\\nStarting download of article: \"TT-Rec: Tensor Train Compression for Deep Learning Recommendation Models\" (2101.11714)\\nDownload finished! Result saved at:\\n./2101.11714v1.TT_Rec_Tensor_Train_Compression_for_Deep_Learning_Recommendation_Models.pdf\\nStarting download of article: \"Deep learning-based citation recommendation system for patents\" (2010.10932)\\nDownload finished! Result saved at:\\n./2010.10932v1.Deep_learning_based_citation_recommendation_system_for_patents.pdf\\nStarting download of article: \"Deep Reinforcement Learning for Page-wise Recommendations\" (1805.02343)\\nDownload finished! Result saved at:\\n./1805.02343v2.Deep_Reinforcement_Learning_for_Page_wise_Recommendations.pdf\\nStarting download of article: \"Deep Item-based Collaborative Filtering for Top-N Recommendation\" (1811.04392)\\nDownload finished! Result saved at:\\n./1811.04392v1.Deep_Item_based_Collaborative_Filtering_for_Top_N_Recommendation.pdf\\nStarting download of article: \"Music Recommendation on Spotify using Deep Learning\" (2312.10079)\\nDownload finished! Result saved at:\\n./2312.10079v1.Music_Recommendation_on_Spotify_using_Deep_Learning.pdf\\nStarting download of article: \"Deep Learning for Sequential Recommendation: Algorithms, Influential Factors, and Evaluations\" (1905.01997)\\nDownload finished! Result saved at:\\n./1905.01997v3.Deep_Learning_for_Sequential_Recommendation_Algorithms_Influential_Factors_and_Evaluations.pdf\\nStarting download of article: \"Use of Deep Learning in Modern Recommendation System: A Summary of Recent Works\" (1712.07525)\\nDownload finished! Result saved at:\\n./1712.07525v1.Use_of_Deep_Learning_in_Modern_Recommendation_System_A_Summary_of_Recent_Works.pdf\\nStarting download of article: \"A GPU-specialized Inference Parameter Server for Large-Scale Deep Recommendation Models\" (2210.08804)\\nDownload finished! Result saved at:\\n./2210.08804v1.A_GPU_specialized_Inference_Parameter_Server_for_Large_Scale_Deep_Recommendation_Models.pdf\\nStarting download of article: \"Towards Deep Conversational Recommendations\" (1812.07617)\\nDownload finished! Result saved at:\\n./1812.07617v2.Towards_Deep_Conversational_Recommendations.pdf\\nStarting download of article: \"MultiHead MultiModal Deep Interest Recommendation Network\" (2110.10205)\\nDownload finished! Result saved at:\\n./2110.10205v1.MultiHead_MultiModal_Deep_Interest_Recommendation_Network.pdf\\nStarting download of article: \"Joint Deep Modeling of Users and Items Using Reviews for Recommendation\" (1701.04783)\\nDownload finished! Result saved at:\\n./1701.04783v1.Joint_Deep_Modeling_of_Users_and_Items_Using_Reviews_for_Recommendation.pdf\\nStarting download of article: \"A Simple Deep Personalized Recommendation System\" (1906.11336)\\nDownload finished! Result saved at:\\n./1906.11336v2.A_Simple_Deep_Personalized_Recommendation_System.pdf\\nStarting download of article: \"Agricultural Recommendation System based on Deep Learning: A Multivariate Weather Forecasting Approach\" (2401.11410)\\nDownload finished! Result saved at:\\n./2401.11410v2.Agricultural_Recommendation_System_based_on_Deep_Learning_A_Multivariate_Weather_Forecasting_Approach.pdf\\nStarting download of article: \"Understanding Training Efficiency of Deep Learning Recommendation Models at Scale\" (2011.05497)\\nDownload finished! Result saved at:\\n./2011.05497v1.Understanding_Training_Efficiency_of_Deep_Learning_Recommendation_Models_at_Scale.pdf\\nStarting download of article: \"DARec: Deep Domain Adaptation for Cross-Domain Recommendation via Transferring Rating Patterns\" (1905.10760)\\nDownload finished! Result saved at:\\n./1905.10760v1.DARec_Deep_Domain_Adaptation_for_Cross_Domain_Recommendation_via_Transferring_Rating_Patterns.pdf\\nStarting download of article: \"Use of Deep Learning in Modern Recommendation System: A Summary of Recent Works\" (1712.07525)\\nDownload finished! Result saved at:\\n./1712.07525v1.Use_of_Deep_Learning_in_Modern_Recommendation_System_A_Summary_of_Recent_Works.pdf\\nStarting download of article: \"Deep Reinforcement Learning based Recommendation with Explicit User-Item Interactions Modeling\" (1810.12027)\\nDownload finished! Result saved at:\\n./1810.12027v3.Deep_Reinforcement_Learning_based_Recommendation_with_Explicit_User_Item_Interactions_Modeling.pdf\\nStarting download of article: \"Deep density networks and uncertainty in recommender systems\" (1711.02487)\\nDownload finished! Result saved at:\\n./1711.02487v3.Deep_density_networks_and_uncertainty_in_recommender_systems.pdf\\nStarting download of article: \"Deep Adversarial Social Recommendation\" (1905.13160)\\nDownload finished! Result saved at:\\n./1905.13160v1.Deep_Adversarial_Social_Recommendation.pdf\\nStarting download of article: \"News Session-Based Recommendations using Deep Neural Networks\" (1808.00076)\\nDownload finished! Result saved at:\\n./1808.00076v3.News_Session_Based_Recommendations_using_Deep_Neural_Networks.pdf\\nStarting download of article: \"Deep Learning based Large Scale Visual Recommendation and Search for E-Commerce\" (1703.02344)\\nDownload finished! Result saved at:\\n./1703.02344v1.Deep_Learning_based_Large_Scale_Visual_Recommendation_and_Search_for_E_Commerce.pdf\\nStarting download of article: \"Medication Recommendation via Domain Knowledge Informed Deep Learning\" (2305.19604)\\nDownload finished! Result saved at:\\n./2305.19604v3.Medication_Recommendation_via_Domain_Knowledge_Informed_Deep_Learning.pdf\\nStarting download of article: \"Context-Aware Legal Citation Recommendation using Deep Learning\" (2106.10776)\\nDownload finished! Result saved at:\\n./2106.10776v1.Context_Aware_Legal_Citation_Recommendation_using_Deep_Learning.pdf\\nStarting download of article: \"Deep Reinforcement Learning based Recommendation with Explicit User-Item Interactions Modeling\" (1810.12027)\\nDownload finished! Result saved at:\\n./1810.12027v3.Deep_Reinforcement_Learning_based_Recommendation_with_Explicit_User_Item_Interactions_Modeling.pdf\\nStarting download of article: \"Deep Reinforcement Learning for List-wise Recommendations\" (1801.00209)\\nDownload finished! Result saved at:\\n./1801.00209v3.Deep_Reinforcement_Learning_for_List_wise_Recommendations.pdf\\nStarting download of article: \"Deep Reinforcement Learning for Page-wise Recommendations\" (1805.02343)\\nDownload finished! Result saved at:\\n./1805.02343v2.Deep_Reinforcement_Learning_for_Page_wise_Recommendations.pdf\\nStarting download of article: \"Recommendations with Negative Feedback via Pairwise Deep Reinforcement Learning\" (1802.06501)\\nDownload finished! Result saved at:\\n./1802.06501v3.Recommendations_with_Negative_Feedback_via_Pairwise_Deep_Reinforcement_Learning.pdf\\nStarting download of article: \"Diversity-Promoting Deep Reinforcement Learning for Interactive Recommendation\" (1903.07826)\\nDownload finished! Result saved at:\\n./1903.07826v1.Diversity_Promoting_Deep_Reinforcement_Learning_for_Interactive_Recommendation.pdf'"
      ]
     },
     "execution_count": 6,
     "metadata": {},
     "output_type": "execute_result"
    }
   ],
   "source": [
    "for cmd_line in command.split('\\n'):\n",
    "    cmd_line = cmd_line.strip()\n",
    "    if cmd_line:\n",
    "        print(cmd_run(cmd_line))\n",
    "# print(cmd_run(command))"
   ]
  },
  {
   "cell_type": "code",
   "execution_count": 7,
   "id": "fcd72d82-3316-40f8-9521-2242db0aa545",
   "metadata": {},
   "outputs": [
    {
     "name": "stdout",
     "output_type": "stream",
     "text": [
      "1606.07792v1.Wide_Deep_Learning_for_Recommender_Systems.pdf\n",
      "1701.04783v1.Joint_Deep_Modeling_of_Users_and_Items_Using_Reviews_for_Recommendation.pdf\n",
      "1703.02344v1.Deep_Learning_based_Large_Scale_Visual_Recommendation_and_Search_for_E_Commerce.pdf\n",
      "1707.07435v7.Deep_Learning_based_Recommender_System_A_Survey_and_New_Perspectives.pdf\n",
      "1711.02487v3.Deep_density_networks_and_uncertainty_in_recommender_systems.pdf\n",
      "1712.07525v1.Use_of_Deep_Learning_in_Modern_Recommendation_System_A_Summary_of_Recent_Works.pdf\n",
      "1801.00209v3.Deep_Reinforcement_Learning_for_List_wise_Recommendations.pdf\n",
      "1801.02294v5.Learning_Tree_based_Deep_Model_for_Recommender_Systems.pdf\n",
      "1802.06501v3.Recommendations_with_Negative_Feedback_via_Pairwise_Deep_Reinforcement_Learning.pdf\n",
      "1805.02343v2.Deep_Reinforcement_Learning_for_Page_wise_Recommendations.pdf\n",
      "1808.00076v3.News_Session_Based_Recommendations_using_Deep_Neural_Networks.pdf\n",
      "1810.12027v3.Deep_Reinforcement_Learning_based_Recommendation_with_Explicit_User_Item_Interactions_Modeling.pdf\n",
      "1811.04392v1.Deep_Item_based_Collaborative_Filtering_for_Top_N_Recommendation.pdf\n",
      "1812.07617v2.Towards_Deep_Conversational_Recommendations.pdf\n",
      "1903.07826v1.Diversity_Promoting_Deep_Reinforcement_Learning_for_Interactive_Recommendation.pdf\n",
      "1905.01997v3.Deep_Learning_for_Sequential_Recommendation_Algorithms_Influential_Factors_and_Evaluations.pdf\n",
      "1905.10536v1.DeepRec_An_Open_source_Toolkit_for_Deep_Learning_based_Recommendation.pdf\n",
      "1905.10760v1.DARec_Deep_Domain_Adaptation_for_Cross_Domain_Recommendation_via_Transferring_Rating_Patterns.pdf\n",
      "1905.13160v1.Deep_Adversarial_Social_Recommendation.pdf\n",
      "1906.00091v1.Deep_Learning_Recommendation_Model_for_Personalization_and_Recommendation_Systems.pdf\n",
      "1906.11336v2.A_Simple_Deep_Personalized_Recommendation_System.pdf\n",
      "1910.05189v1.DDTCDR_Deep_Dual_Transfer_Cross_Domain_Recommendation.pdf\n",
      "2003.07051v1.Deep_Neural_Review_Text_Interaction_for_Recommendation_Systems.pdf\n",
      "2004.08100v8.Recommendation_system_using_a_deep_learning_and_graph_analysis_approach.pdf\n",
      "2009.09748v1.A_Deep_Hybrid_Model_for_Recommendation_Systems.pdf\n",
      "2010.05037v1.Cross_Stack_Workload_Characterization_of_Deep_Recommendation_Systems.pdf\n",
      "2010.10932v1.Deep_learning_based_citation_recommendation_system_for_patents.pdf\n",
      "2011.05497v1.Understanding_Training_Efficiency_of_Deep_Learning_Recommendation_Models_at_Scale.pdf\n",
      "2101.11714v1.TT_Rec_Tensor_Train_Compression_for_Deep_Learning_Recommendation_Models.pdf\n",
      "2104.05158v7.Software_Hardware_Co_design_for_Fast_and_Scalable_Training_of_Deep_Learning_Recommendation_Models.pdf\n",
      "2106.10776v1.Context_Aware_Legal_Citation_Recommendation_using_Deep_Learning.pdf\n",
      "2108.09373v4.Understanding_Data_Storage_and_Ingestion_for_Large_Scale_Deep_Recommendation_Model_Training.pdf\n",
      "2109.12509v4.Deep_Exploration_for_Recommendation_Systems.pdf\n",
      "2110.06287v2.Real_Time_Learning_from_An_Expert_in_Deep_Recommendation_Systems_with_Marginal_Distance_Probability_Distribution.pdf\n",
      "2110.10205v1.MultiHead_MultiModal_Deep_Interest_Recommendation_Network.pdf\n",
      "2201.05861v2.Deep_Unified_Representation_for_Heterogeneous_Recommendation.pdf\n",
      "2201.07821v2.Building_a_Performance_Model_for_Deep_Learning_Recommendation_Model_Training_on_GPUs.pdf\n",
      "2202.12429v4.BagPipe_Accelerating_Deep_Recommendation_Model_Training.pdf\n",
      "2206.04415v1.Deep_Meta_learning_in_Recommendation_Systems_A_Survey.pdf\n",
      "2208.01918v4.DeepProphet2_A_Deep_Learning_Gene_Recommendation_Engine.pdf\n",
      "2210.08804v1.A_GPU_specialized_Inference_Parameter_Server_for_Large_Scale_Deep_Recommendation_Models.pdf\n",
      "2211.05239v4.RecD_Deduplication_for_End_to_End_Deep_Learning_Recommendation_Model_Training_Infrastructure.pdf\n",
      "2302.03525v2.Multi_Task_Deep_Recommender_Systems_A_Survey.pdf\n",
      "2305.01801v1.When_Newer_is_Not_Better_Does_Deep_Learning_Really_Benefit_Recommendation_From_Implicit_Feedback.pdf\n",
      "2305.19604v3.Medication_Recommendation_via_Domain_Knowledge_Informed_Deep_Learning.pdf\n",
      "2307.10244v1.Evaluating_and_Enhancing_Robustness_of_Deep_Recommendation_Systems_Against_Hardware_Errors.pdf\n",
      "2308.08500v1.InTune_Reinforcement_Learning_based_Data_Pipeline_Optimization_for_Deep_Recommendation_Models.pdf\n",
      "2309.05273v1.Formalizing_Multimedia_Recommendation_through_Multimodal_Deep_Learning.pdf\n",
      "2312.10079v1.Music_Recommendation_on_Spotify_using_Deep_Learning.pdf\n",
      "2401.11410v2.Agricultural_Recommendation_System_based_on_Deep_Learning_A_Multivariate_Weather_Forecasting_Approach.pdf\n"
     ]
    }
   ],
   "source": [
    "!du -sh pdf_dir/*"
   ]
  },
  {
   "cell_type": "code",
   "execution_count": 8,
   "id": "4ede9351-ec10-4fae-9003-bba3bdf3433e",
   "metadata": {},
   "outputs": [
    {
     "name": "stdout",
     "output_type": "stream",
     "text": [
      "LICENSE.txt  evaluation   output_dir\t\t  project\tsrc\n",
      "README.md    figures_tmp  pdf_dir\t\t  remote.ipynb\tstat_file.json\n",
      "arxiv_cmd    go.ipynb\t  pdf_dir_tmp\t\t  remote.py\ttarget\n",
      "build.sbt    ng.py\t  pdffigures2-master.zip  run.sh\twandb\n"
     ]
    }
   ],
   "source": [
    "!ls"
   ]
  },
  {
   "cell_type": "code",
   "execution_count": 9,
   "id": "0e522466-6d6a-4c62-95cb-30141c0ddea5",
   "metadata": {},
   "outputs": [
    {
     "name": "stdout",
     "output_type": "stream",
     "text": [
      "Archive:  pdffigures2-master.zip\n",
      "replace .gitignore? [y]es, [n]o, [A]ll, [N]one, [r]ename:   inflating: .gitignore              \n",
      "replace .scalafmt.conf? [y]es, [n]o, [A]ll, [N]one, [r]ename:   inflating: .scalafmt.conf          \n",
      "replace build.sbt? [y]es, [n]o, [A]ll, [N]one, [r]ename:   inflating: build.sbt               \n",
      "replace evaluation/.gitignore? [y]es, [n]o, [A]ll, [N]one, [r]ename:  extracting: evaluation/.gitignore   \n",
      "replace evaluation/build_evaluation.py? [y]es, [n]o, [A]ll, [N]one, [r]ename:   inflating: evaluation/build_evaluation.py  \n",
      "replace evaluation/build_section_eval.py? [y]es, [n]o, [A]ll, [N]one, [r]ename:   inflating: evaluation/build_section_eval.py  \n",
      "replace evaluation/compare_evaluation.py? [y]es, [n]o, [A]ll, [N]one, [r]ename:   inflating: evaluation/compare_evaluation.py  \n",
      "replace evaluation/datasets/build_dataset_images.py? [y]es, [n]o, [A]ll, [N]one, [r]ename:   inflating: evaluation/datasets/build_dataset_images.py  \n",
      "replace evaluation/datasets/conference/annotations.json? [y]es, [n]o, [A]ll, [N]one, [r]ename:   inflating: evaluation/datasets/conference/annotations.json  \n",
      "replace evaluation/datasets/conference/doc_ids.txt? [y]es, [n]o, [A]ll, [N]one, [r]ename:   inflating: evaluation/datasets/conference/doc_ids.txt  \n",
      "replace evaluation/datasets/datasets.py? [y]es, [n]o, [A]ll, [N]one, [r]ename:   inflating: evaluation/datasets/datasets.py  \n",
      "replace evaluation/datasets/non_standard_documents.txt? [y]es, [n]o, [A]ll, [N]one, [r]ename:  extracting: evaluation/datasets/non_standard_documents.txt  \n",
      "replace evaluation/datasets/README.md? [y]es, [n]o, [A]ll, [N]one, [r]ename:   inflating: evaluation/datasets/README.md  \n",
      "replace evaluation/datasets/s2/annotations.json? [y]es, [n]o, [A]ll, [N]one, [r]ename:   inflating: evaluation/datasets/s2/annotations.json  \n",
      "replace evaluation/datasets/s2/doc_ids.txt? [y]es, [n]o, [A]ll, [N]one, [r]ename:   inflating: evaluation/datasets/s2/doc_ids.txt  \n",
      "replace evaluation/datasets/s2/non_standard_documents.txt? [y]es, [n]o, [A]ll, [N]one, [r]ename:   inflating: evaluation/datasets/s2/non_standard_documents.txt  \n",
      "replace evaluation/datasets/s2/pages_annotated.json? [y]es, [n]o, [A]ll, [N]one, [r]ename:   inflating: evaluation/datasets/s2/pages_annotated.json  \n",
      "replace evaluation/datasets/section-annotations.json? [y]es, [n]o, [A]ll, [N]one, [r]ename:   inflating: evaluation/datasets/section-annotations.json  \n",
      "replace evaluation/datasets/test_datasets.py? [y]es, [n]o, [A]ll, [N]one, [r]ename:   inflating: evaluation/datasets/test_datasets.py  \n",
      "replace evaluation/datasets/visualize_annotations.py? [y]es, [n]o, [A]ll, [N]one, [r]ename:   inflating: evaluation/datasets/visualize_annotations.py  \n",
      "replace evaluation/datasets/__init__.py? [y]es, [n]o, [A]ll, [N]one, [r]ename:  extracting: evaluation/datasets/__init__.py  \n",
      "replace evaluation/download_from_urls.py? [y]es, [n]o, [A]ll, [N]one, [r]ename:   inflating: evaluation/download_from_urls.py  \n",
      "replace evaluation/extractors.py? [y]es, [n]o, [A]ll, [N]one, [r]ename:   inflating: evaluation/extractors.py  \n",
      "replace evaluation/parse_evaluation.py? [y]es, [n]o, [A]ll, [N]one, [r]ename:   inflating: evaluation/parse_evaluation.py  \n",
      "replace evaluation/pdffigures_utils.py? [y]es, [n]o, [A]ll, [N]one, [r]ename:   inflating: evaluation/pdffigures_utils.py  \n",
      "replace evaluation/print_dataset_stats.py? [y]es, [n]o, [A]ll, [N]one, [r]ename:   inflating: evaluation/print_dataset_stats.py  \n",
      "replace evaluation/README.md? [y]es, [n]o, [A]ll, [N]one, [r]ename:   inflating: evaluation/README.md    \n",
      "replace evaluation/section_extractors.py? [y]es, [n]o, [A]ll, [N]one, [r]ename:   inflating: evaluation/section_extractors.py  \n",
      "replace evaluation/time_extractor.py? [y]es, [n]o, [A]ll, [N]one, [r]ename:   inflating: evaluation/time_extractor.py  \n",
      "replace evaluation/__init__.py? [y]es, [n]o, [A]ll, [N]one, [r]ename:  extracting: evaluation/__init__.py  \n",
      "replace LICENSE.txt? [y]es, [n]o, [A]ll, [N]one, [r]ename:   inflating: LICENSE.txt             \n",
      "replace project/build.properties? [y]es, [n]o, [A]ll, [N]one, [r]ename:  extracting: project/build.properties  \n",
      "replace project/plugins.sbt? [y]es, [n]o, [A]ll, [N]one, [r]ename:   inflating: project/plugins.sbt     \n",
      "replace README.md? [y]es, [n]o, [A]ll, [N]one, [r]ename:   inflating: README.md               \n",
      "replace src/main/java/org/allenai/pdffigures2/RegexWithTimeout.java? [y]es, [n]o, [A]ll, [N]one, [r]ename:   inflating: src/main/java/org/allenai/pdffigures2/RegexWithTimeout.java  \n",
      "replace src/main/resources/logback.xml? [y]es, [n]o, [A]ll, [N]one, [r]ename:   inflating: src/main/resources/logback.xml  \n",
      "replace src/main/scala/org/allenai/pdffigures2/Box.scala? [y]es, [n]o, [A]ll, [N]one, [r]ename:   inflating: src/main/scala/org/allenai/pdffigures2/Box.scala  \n",
      "replace src/main/scala/org/allenai/pdffigures2/CaptionBuilder.scala? [y]es, [n]o, [A]ll, [N]one, [r]ename:   inflating: src/main/scala/org/allenai/pdffigures2/CaptionBuilder.scala  \n",
      "replace src/main/scala/org/allenai/pdffigures2/CaptionDetector.scala? [y]es, [n]o, [A]ll, [N]one, [r]ename:   inflating: src/main/scala/org/allenai/pdffigures2/CaptionDetector.scala  \n",
      "replace src/main/scala/org/allenai/pdffigures2/DocumentLayout.scala? [y]es, [n]o, [A]ll, [N]one, [r]ename:   inflating: src/main/scala/org/allenai/pdffigures2/DocumentLayout.scala  \n",
      "replace src/main/scala/org/allenai/pdffigures2/Figure.scala? [y]es, [n]o, [A]ll, [N]one, [r]ename:   inflating: src/main/scala/org/allenai/pdffigures2/Figure.scala  \n",
      "replace src/main/scala/org/allenai/pdffigures2/FigureDetector.scala? [y]es, [n]o, [A]ll, [N]one, [r]ename:   inflating: src/main/scala/org/allenai/pdffigures2/FigureDetector.scala  \n",
      "replace src/main/scala/org/allenai/pdffigures2/FigureExtractor.scala? [y]es, [n]o, [A]ll, [N]one, [r]ename:   inflating: src/main/scala/org/allenai/pdffigures2/FigureExtractor.scala  \n",
      "replace src/main/scala/org/allenai/pdffigures2/FigureExtractorBatchCli.scala? [y]es, [n]o, [A]ll, [N]one, [r]ename:   inflating: src/main/scala/org/allenai/pdffigures2/FigureExtractorBatchCli.scala  \n",
      "replace src/main/scala/org/allenai/pdffigures2/FigureExtractorVisualizationCli.scala? [y]es, [n]o, [A]ll, [N]one, [r]ename:   inflating: src/main/scala/org/allenai/pdffigures2/FigureExtractorVisualizationCli.scala  \n",
      "replace src/main/scala/org/allenai/pdffigures2/FigureRenderer.scala? [y]es, [n]o, [A]ll, [N]one, [r]ename:   inflating: src/main/scala/org/allenai/pdffigures2/FigureRenderer.scala  \n",
      "replace src/main/scala/org/allenai/pdffigures2/FindGraphicsRaster.scala? [y]es, [n]o, [A]ll, [N]one, [r]ename:   inflating: src/main/scala/org/allenai/pdffigures2/FindGraphicsRaster.scala  \n",
      "replace src/main/scala/org/allenai/pdffigures2/FormattingTextExtractor.scala? [y]es, [n]o, [A]ll, [N]one, [r]ename:   inflating: src/main/scala/org/allenai/pdffigures2/FormattingTextExtractor.scala  \n",
      "replace src/main/scala/org/allenai/pdffigures2/GraphicBBDetector.scala? [y]es, [n]o, [A]ll, [N]one, [r]ename:   inflating: src/main/scala/org/allenai/pdffigures2/GraphicBBDetector.scala  \n",
      "replace src/main/scala/org/allenai/pdffigures2/GraphicsExtractor.scala? [y]es, [n]o, [A]ll, [N]one, [r]ename:   inflating: src/main/scala/org/allenai/pdffigures2/GraphicsExtractor.scala  \n",
      "replace src/main/scala/org/allenai/pdffigures2/InterruptiblePDFRenderer.scala? [y]es, [n]o, [A]ll, [N]one, [r]ename:   inflating: src/main/scala/org/allenai/pdffigures2/InterruptiblePDFRenderer.scala  \n",
      "replace src/main/scala/org/allenai/pdffigures2/JsonProtocol.scala? [y]es, [n]o, [A]ll, [N]one, [r]ename:   inflating: src/main/scala/org/allenai/pdffigures2/JsonProtocol.scala  \n",
      "replace src/main/scala/org/allenai/pdffigures2/Logging.scala? [y]es, [n]o, [A]ll, [N]one, [r]ename:   inflating: src/main/scala/org/allenai/pdffigures2/Logging.scala  \n",
      "replace src/main/scala/org/allenai/pdffigures2/PageStructure.scala? [y]es, [n]o, [A]ll, [N]one, [r]ename:   inflating: src/main/scala/org/allenai/pdffigures2/PageStructure.scala  \n",
      "replace src/main/scala/org/allenai/pdffigures2/Paragraph.scala? [y]es, [n]o, [A]ll, [N]one, [r]ename:   inflating: src/main/scala/org/allenai/pdffigures2/Paragraph.scala  \n",
      "replace src/main/scala/org/allenai/pdffigures2/ParagraphRebuilder.scala? [y]es, [n]o, [A]ll, [N]one, [r]ename:   inflating: src/main/scala/org/allenai/pdffigures2/ParagraphRebuilder.scala  \n",
      "replace src/main/scala/org/allenai/pdffigures2/RegionClassifier.scala? [y]es, [n]o, [A]ll, [N]one, [r]ename:   inflating: src/main/scala/org/allenai/pdffigures2/RegionClassifier.scala  \n",
      "replace src/main/scala/org/allenai/pdffigures2/SectionedTextBuilder.scala? [y]es, [n]o, [A]ll, [N]one, [r]ename:   inflating: src/main/scala/org/allenai/pdffigures2/SectionedTextBuilder.scala  \n",
      "replace src/main/scala/org/allenai/pdffigures2/SectionTitleExtractor.scala? [y]es, [n]o, [A]ll, [N]one, [r]ename:   inflating: src/main/scala/org/allenai/pdffigures2/SectionTitleExtractor.scala  \n",
      "replace src/main/scala/org/allenai/pdffigures2/TextExtractor.scala? [y]es, [n]o, [A]ll, [N]one, [r]ename:   inflating: src/main/scala/org/allenai/pdffigures2/TextExtractor.scala  \n",
      "replace src/main/scala/org/allenai/pdffigures2/VisualLogger.scala? [y]es, [n]o, [A]ll, [N]one, [r]ename:   inflating: src/main/scala/org/allenai/pdffigures2/VisualLogger.scala  \n",
      "replace src/test/resources/test-pdfs/3a9202f9f176d3377516e3da0866cc19148c033b.pdf? [y]es, [n]o, [A]ll, [N]one, [r]ename:   inflating: src/test/resources/test-pdfs/3a9202f9f176d3377516e3da0866cc19148c033b.pdf  \n",
      "replace src/test/resources/test-pdfs/498bb0efad6ec15dd09d941fb309aa18d6df9f5f.pdf? [y]es, [n]o, [A]ll, [N]one, [r]ename:   inflating: src/test/resources/test-pdfs/498bb0efad6ec15dd09d941fb309aa18d6df9f5f.pdf  \n",
      "replace src/test/resources/test-pdfs/f63cb20759fab2514802c3ef2a743c76bf9dc9f1.pdf? [y]es, [n]o, [A]ll, [N]one, [r]ename:   inflating: src/test/resources/test-pdfs/f63cb20759fab2514802c3ef2a743c76bf9dc9f1.pdf  \n",
      "replace src/test/scala/org/allenai/pdffigures2/TestExtractionFilters.scala? [y]es, [n]o, [A]ll, [N]one, [r]ename:   inflating: src/test/scala/org/allenai/pdffigures2/TestExtractionFilters.scala  \n",
      "yes: standard output: Broken pipe\n"
     ]
    }
   ],
   "source": [
    "!yes | unzip pdffigures2-master.zip"
   ]
  },
  {
   "cell_type": "code",
   "execution_count": 10,
   "id": "7e8fb84b-96f6-423c-80bc-c1244279e0e7",
   "metadata": {},
   "outputs": [
    {
     "name": "stdout",
     "output_type": "stream",
     "text": [
      "LICENSE.txt  evaluation   output_dir\t\t  project\tsrc\n",
      "README.md    figures_tmp  pdf_dir\t\t  remote.ipynb\tstat_file.json\n",
      "arxiv_cmd    go.ipynb\t  pdf_dir_tmp\t\t  remote.py\ttarget\n",
      "build.sbt    ng.py\t  pdffigures2-master.zip  run.sh\twandb\n"
     ]
    }
   ],
   "source": [
    "!ls"
   ]
  },
  {
   "cell_type": "code",
   "execution_count": 11,
   "id": "221bbb02-b59a-4104-862a-50b645ca07e0",
   "metadata": {},
   "outputs": [
    {
     "name": "stdout",
     "output_type": "stream",
     "text": [
      "deb https://repo.scala-sbt.org/scalasbt/debian all main\n",
      "deb https://repo.scala-sbt.org/scalasbt/debian /\n",
      "Warning: apt-key is deprecated. Manage keyring files in trusted.gpg.d instead (see apt-key(8)).\n",
      "OK\n",
      "Get:1 file:/etc/apt/apt-mirrors.txt Mirrorlist [142 B]\n",
      "Hit:2 http://azure.archive.ubuntu.com/ubuntu jammy InRelease                   \n",
      "Hit:3 http://azure.archive.ubuntu.com/ubuntu jammy-updates InRelease           \n",
      "Hit:4 http://azure.archive.ubuntu.com/ubuntu jammy-backports InRelease         \n",
      "Hit:5 http://azure.archive.ubuntu.com/ubuntu jammy-security InRelease          \n",
      "Hit:6 https://packages.microsoft.com/ubuntu/22.04/prod jammy InRelease         \n",
      "Hit:9 https://ppa.launchpadcontent.net/ubuntu-toolchain-r/test/ubuntu jammy InRelease\n",
      "Hit:7 https://scala.jfrog.io/artifactory/debian all InRelease          \n",
      "Ign:8 https://scala.jfrog.io/artifactory/debian  InRelease\n",
      "Hit:10 https://scala.jfrog.io/artifactory/debian  Release\n",
      "Reading package lists... Done\n",
      "W: https://repo.scala-sbt.org/scalasbt/debian/dists/all/InRelease: Key is stored in legacy trusted.gpg keyring (/etc/apt/trusted.gpg), see the DEPRECATION section in apt-key(8) for details.\n",
      "W: https://repo.scala-sbt.org/scalasbt/debian/Release.gpg: Key is stored in legacy trusted.gpg keyring (/etc/apt/trusted.gpg), see the DEPRECATION section in apt-key(8) for details.\n",
      "Reading package lists... Done\n",
      "Building dependency tree... Done\n",
      "Reading state information... Done\n",
      "sbt is already the newest version (1.9.9).\n",
      "0 upgraded, 0 newly installed, 0 to remove and 57 not upgraded.\n"
     ]
    }
   ],
   "source": [
    "!echo \"deb https://repo.scala-sbt.org/scalasbt/debian all main\" | sudo tee /etc/apt/sources.list.d/sbt.list\n",
    "!echo \"deb https://repo.scala-sbt.org/scalasbt/debian /\" | sudo tee /etc/apt/sources.list.d/sbt_old.list\n",
    "!curl -sL \"https://keyserver.ubuntu.com/pks/lookup?op=get&search=0x2EE0EA64E40A89B84B2DF73499E82A75642AC823\" | sudo apt-key add\n",
    "!sudo apt-get update\n",
    "!sudo apt-get install sbt"
   ]
  },
  {
   "cell_type": "code",
   "execution_count": 12,
   "id": "56127791-9cfe-4c80-aeba-25f4695de104",
   "metadata": {},
   "outputs": [
    {
     "name": "stdout",
     "output_type": "stream",
     "text": [
      "/home/runner/work/TestNgrok/TestNgrok\n"
     ]
    }
   ],
   "source": [
    "!pwd"
   ]
  },
  {
   "cell_type": "code",
   "execution_count": 13,
   "id": "d5dda6e1-979b-42d9-9e0c-2fb52085fa7c",
   "metadata": {},
   "outputs": [
    {
     "data": {
      "text/plain": [
       "['1606.07792v1.Wide_Deep_Learning_for_Recommender_Systems.pdf',\n",
       " '1701.04783v1.Joint_Deep_Modeling_of_Users_and_Items_Using_Reviews_for_Recommendation.pdf',\n",
       " '1703.02344v1.Deep_Learning_based_Large_Scale_Visual_Recommendation_and_Search_for_E_Commerce.pdf',\n",
       " '1707.07435v7.Deep_Learning_based_Recommender_System_A_Survey_and_New_Perspectives.pdf',\n",
       " '1711.02487v3.Deep_density_networks_and_uncertainty_in_recommender_systems.pdf',\n",
       " '1712.07525v1.Use_of_Deep_Learning_in_Modern_Recommendation_System_A_Summary_of_Recent_Works.pdf',\n",
       " '1801.00209v3.Deep_Reinforcement_Learning_for_List_wise_Recommendations.pdf',\n",
       " '1801.02294v5.Learning_Tree_based_Deep_Model_for_Recommender_Systems.pdf',\n",
       " '1802.06501v3.Recommendations_with_Negative_Feedback_via_Pairwise_Deep_Reinforcement_Learning.pdf',\n",
       " '1805.02343v2.Deep_Reinforcement_Learning_for_Page_wise_Recommendations.pdf',\n",
       " '1808.00076v3.News_Session_Based_Recommendations_using_Deep_Neural_Networks.pdf',\n",
       " '1810.12027v3.Deep_Reinforcement_Learning_based_Recommendation_with_Explicit_User_Item_Interactions_Modeling.pdf',\n",
       " '1811.04392v1.Deep_Item_based_Collaborative_Filtering_for_Top_N_Recommendation.pdf',\n",
       " '1812.07617v2.Towards_Deep_Conversational_Recommendations.pdf',\n",
       " '1903.07826v1.Diversity_Promoting_Deep_Reinforcement_Learning_for_Interactive_Recommendation.pdf',\n",
       " '1905.01997v3.Deep_Learning_for_Sequential_Recommendation_Algorithms_Influential_Factors_and_Evaluations.pdf',\n",
       " '1905.10536v1.DeepRec_An_Open_source_Toolkit_for_Deep_Learning_based_Recommendation.pdf',\n",
       " '1905.10760v1.DARec_Deep_Domain_Adaptation_for_Cross_Domain_Recommendation_via_Transferring_Rating_Patterns.pdf',\n",
       " '1905.13160v1.Deep_Adversarial_Social_Recommendation.pdf',\n",
       " '1906.00091v1.Deep_Learning_Recommendation_Model_for_Personalization_and_Recommendation_Systems.pdf',\n",
       " '1906.11336v2.A_Simple_Deep_Personalized_Recommendation_System.pdf',\n",
       " '1910.05189v1.DDTCDR_Deep_Dual_Transfer_Cross_Domain_Recommendation.pdf',\n",
       " '2003.07051v1.Deep_Neural_Review_Text_Interaction_for_Recommendation_Systems.pdf',\n",
       " '2004.08100v8.Recommendation_system_using_a_deep_learning_and_graph_analysis_approach.pdf',\n",
       " '2009.09748v1.A_Deep_Hybrid_Model_for_Recommendation_Systems.pdf',\n",
       " '2010.05037v1.Cross_Stack_Workload_Characterization_of_Deep_Recommendation_Systems.pdf',\n",
       " '2010.10932v1.Deep_learning_based_citation_recommendation_system_for_patents.pdf',\n",
       " '2011.05497v1.Understanding_Training_Efficiency_of_Deep_Learning_Recommendation_Models_at_Scale.pdf',\n",
       " '2101.11714v1.TT_Rec_Tensor_Train_Compression_for_Deep_Learning_Recommendation_Models.pdf',\n",
       " '2104.05158v7.Software_Hardware_Co_design_for_Fast_and_Scalable_Training_of_Deep_Learning_Recommendation_Models.pdf',\n",
       " '2106.10776v1.Context_Aware_Legal_Citation_Recommendation_using_Deep_Learning.pdf',\n",
       " '2108.09373v4.Understanding_Data_Storage_and_Ingestion_for_Large_Scale_Deep_Recommendation_Model_Training.pdf',\n",
       " '2109.12509v4.Deep_Exploration_for_Recommendation_Systems.pdf',\n",
       " '2110.06287v2.Real_Time_Learning_from_An_Expert_in_Deep_Recommendation_Systems_with_Marginal_Distance_Probability_Distribution.pdf',\n",
       " '2110.10205v1.MultiHead_MultiModal_Deep_Interest_Recommendation_Network.pdf',\n",
       " '2201.05861v2.Deep_Unified_Representation_for_Heterogeneous_Recommendation.pdf',\n",
       " '2201.07821v2.Building_a_Performance_Model_for_Deep_Learning_Recommendation_Model_Training_on_GPUs.pdf',\n",
       " '2202.12429v4.BagPipe_Accelerating_Deep_Recommendation_Model_Training.pdf',\n",
       " '2206.04415v1.Deep_Meta_learning_in_Recommendation_Systems_A_Survey.pdf',\n",
       " '2208.01918v4.DeepProphet2_A_Deep_Learning_Gene_Recommendation_Engine.pdf',\n",
       " '2210.08804v1.A_GPU_specialized_Inference_Parameter_Server_for_Large_Scale_Deep_Recommendation_Models.pdf',\n",
       " '2211.05239v4.RecD_Deduplication_for_End_to_End_Deep_Learning_Recommendation_Model_Training_Infrastructure.pdf',\n",
       " '2302.03525v2.Multi_Task_Deep_Recommender_Systems_A_Survey.pdf',\n",
       " '2305.01801v1.When_Newer_is_Not_Better_Does_Deep_Learning_Really_Benefit_Recommendation_From_Implicit_Feedback.pdf',\n",
       " '2305.19604v3.Medication_Recommendation_via_Domain_Knowledge_Informed_Deep_Learning.pdf',\n",
       " '2307.10244v1.Evaluating_and_Enhancing_Robustness_of_Deep_Recommendation_Systems_Against_Hardware_Errors.pdf',\n",
       " '2308.08500v1.InTune_Reinforcement_Learning_based_Data_Pipeline_Optimization_for_Deep_Recommendation_Models.pdf',\n",
       " '2309.05273v1.Formalizing_Multimedia_Recommendation_through_Multimodal_Deep_Learning.pdf',\n",
       " '2312.10079v1.Music_Recommendation_on_Spotify_using_Deep_Learning.pdf',\n",
       " '2401.11410v2.Agricultural_Recommendation_System_based_on_Deep_Learning_A_Multivariate_Weather_Forecasting_Approach.pdf']"
      ]
     },
     "execution_count": 13,
     "metadata": {},
     "output_type": "execute_result"
    }
   ],
   "source": [
    "pdf_list = !ls pdf_dir\n",
    "pdf_list"
   ]
  },
  {
   "cell_type": "code",
   "execution_count": 14,
   "id": "8a2276d6-6214-4b26-9e47-7b97b09274de",
   "metadata": {},
   "outputs": [
    {
     "name": "stdout",
     "output_type": "stream",
     "text": [
      "Defaulting to user installation because normal site-packages is not writeable\n",
      "Requirement already satisfied: tqdm in /home/runner/.local/lib/python3.10/site-packages (4.66.2)\n"
     ]
    }
   ],
   "source": [
    "!pip install tqdm"
   ]
  },
  {
   "cell_type": "code",
   "execution_count": 15,
   "id": "0702aeb2-2a57-48d2-b6e2-a9c59c6593a6",
   "metadata": {},
   "outputs": [
    {
     "name": "stdout",
     "output_type": "stream",
     "text": [
      "mkdir: cannot create directory ‘pdf_dir_tmp’: File exists\n"
     ]
    }
   ],
   "source": [
    "!mkdir pdf_dir_tmp"
   ]
  },
  {
   "cell_type": "code",
   "execution_count": null,
   "id": "734cc591-345e-4c4d-8e82-1337e0b817ca",
   "metadata": {},
   "outputs": [
    {
     "name": "stderr",
     "output_type": "stream",
     "text": [
      "  0%|          | 0/50 [00:00<?, ?it/s]"
     ]
    },
    {
     "name": "stdout",
     "output_type": "stream",
     "text": [
      "\u001b[0m[\u001b[0m\u001b[0minfo\u001b[0m] \u001b[0m\u001b[0mwelcome to sbt 1.7.1 (Eclipse Adoptium Java 11.0.22)\u001b[0m\n",
      "\u001b[0m[\u001b[0m\u001b[0minfo\u001b[0m] \u001b[0m\u001b[0mloading settings for project testngrok-build from plugins.sbt ...\u001b[0m\n",
      "\u001b[0m[\u001b[0m\u001b[0minfo\u001b[0m] \u001b[0m\u001b[0mloading project definition from /home/runner/work/TestNgrok/TestNgrok/project\u001b[0m\n",
      "\u001b[0m[\u001b[0m\u001b[0minfo\u001b[0m] \u001b[0m\u001b[0mloading settings for project root from build.sbt ...\u001b[0m\n",
      "\u001b[0m[\u001b[0m\u001b[0minfo\u001b[0m] \u001b[0m\u001b[0mset current project to pdffigures2 (in build file:/home/runner/work/TestNgrok/TestNgrok/)\u001b[0m\n",
      "\u001b[0m[\u001b[0m\u001b[0minfo\u001b[0m] \u001b[0m\u001b[0mrunning org.allenai.pdffigures2.FigureExtractorBatchCli pdf_dir_tmp/ -s stat_file.json -m output_dir/ -d output_dir/ -e\u001b[0m\n",
      "08:48:35.395 [sbt-bg-threads-1] INFO  o.a.p.FigureExtractorBatchCli$ - Processing file 1606.07792v1.Wide_Deep_Learning_for_Recommender_Systems.pdf (1 of 1)\n",
      "08:48:36.090 [sbt-bg-threads-1] DEBUG o.a.p.FormattingTextExtractor$ - Found abstract, marking as body text\n",
      "08:48:36.143 [sbt-bg-threads-1] DEBUG o.a.pdffigures2.DocumentLayout$ - Document was two column\n",
      "08:48:36.211 [sbt-bg-threads-1] DEBUG o.a.pdffigures2.CaptionDetector$ - Applied filter Colon Only, 6 remaining\n",
      "08:48:36.213 [sbt-bg-threads-1] DEBUG o.a.pdffigures2.FigureExtractor - On page 2\n",
      "08:48:36.257 [sbt-bg-threads-1] DEBUG o.a.pdffigures2.GraphicsExtractor$ - Found 2 graphic areas, 2 after cleaning\n",
      "08:48:36.334 [sbt-bg-threads-1] DEBUG o.a.pdffigures2.FigureExtractor - On page 1\n",
      "08:48:36.358 [sbt-bg-threads-1] DEBUG o.a.pdffigures2.GraphicsExtractor$ - Found 3 graphic areas, 3 after cleaning\n",
      "08:48:36.369 [sbt-bg-threads-1] DEBUG o.a.pdffigures2.FigureExtractor - On page 3\n",
      "08:48:36.375 [sbt-bg-threads-1] DEBUG o.a.pdffigures2.GraphicsExtractor$ - Found 10 graphic areas, 10 after cleaning\n",
      "08:48:37.250 [sbt-bg-threads-1] INFO  o.a.p.FigureExtractorBatchCli$ - Finished 1606.07792v1.Wide_Deep_Learning_for_Recommender_Systems.pdf in 1.852 seconds\n",
      "08:48:37.251 [sbt-bg-threads-1] INFO  o.a.p.FigureExtractorBatchCli$ - Finished processing 1 files\n",
      "08:48:37.251 [sbt-bg-threads-1] INFO  o.a.p.FigureExtractorBatchCli$ - Took 1.857 seconds\n",
      "08:48:37.258 [sbt-bg-threads-1] INFO  o.a.p.FigureExtractorBatchCli$ - Stats saved to stat_file.json\n",
      "08:48:37.259 [sbt-bg-threads-1] INFO  o.a.p.FigureExtractorBatchCli$ - No errors\n",
      "\u001b[0m[\u001b[0m\u001b[32msuccess\u001b[0m] \u001b[0m\u001b[0mTotal time: 3 s, completed Apr 1, 2024, 8:48:37 AM\u001b[0m\n",
      "\u001b[0J"
     ]
    },
    {
     "name": "stderr",
     "output_type": "stream",
     "text": [
      "  2%|▏         | 1/50 [00:08<07:13,  8.84s/it]"
     ]
    },
    {
     "name": "stdout",
     "output_type": "stream",
     "text": [
      "\u001b[0m[\u001b[0m\u001b[0minfo\u001b[0m] \u001b[0m\u001b[0mwelcome to sbt 1.7.1 (Eclipse Adoptium Java 11.0.22)\u001b[0m\n",
      "\u001b[0m[\u001b[0m\u001b[0minfo\u001b[0m] \u001b[0m\u001b[0mloading settings for project testngrok-build from plugins.sbt ...\u001b[0m\n",
      "\u001b[0m[\u001b[0m\u001b[0minfo\u001b[0m] \u001b[0m\u001b[0mloading project definition from /home/runner/work/TestNgrok/TestNgrok/project\u001b[0m\n",
      "\u001b[0m[\u001b[0m\u001b[0minfo\u001b[0m] \u001b[0m\u001b[0mloading settings for project root from build.sbt ...\u001b[0m\n",
      "\u001b[0m[\u001b[0m\u001b[0minfo\u001b[0m] \u001b[0m\u001b[0mset current project to pdffigures2 (in build file:/home/runner/work/TestNgrok/TestNgrok/)\u001b[0m\n",
      "\u001b[0m[\u001b[0m\u001b[0minfo\u001b[0m] \u001b[0m\u001b[0mrunning org.allenai.pdffigures2.FigureExtractorBatchCli pdf_dir_tmp/ -s stat_file.json -m output_dir/ -d output_dir/ -e\u001b[0m\n",
      "08:48:44.038 [sbt-bg-threads-1] INFO  o.a.p.FigureExtractorBatchCli$ - Processing file 1701.04783v1.Joint_Deep_Modeling_of_Users_and_Items_Using_Reviews_for_Recommendation.pdf (1 of 1)\n",
      "08:48:44.869 [sbt-bg-threads-1] DEBUG o.a.p.FormattingTextExtractor$ - Found abstract, marking as body text\n",
      "08:48:44.940 [sbt-bg-threads-1] DEBUG o.a.pdffigures2.DocumentLayout$ - Document was two column\n",
      "08:48:45.035 [sbt-bg-threads-1] DEBUG o.a.pdffigures2.CaptionDetector$ - Applied filter Colon Only, 7 remaining\n",
      "08:48:45.038 [sbt-bg-threads-1] DEBUG o.a.pdffigures2.FigureExtractor - On page 5\n",
      "08:48:45.082 [sbt-bg-threads-1] DEBUG o.a.pdffigures2.GraphicsExtractor$ - Found 2 graphic areas, 2 after cleaning\n",
      "08:48:45.139 [sbt-bg-threads-1] DEBUG o.a.pdffigures2.FigureExtractor - On page 1\n",
      "08:48:45.153 [sbt-bg-threads-1] DEBUG o.a.pdffigures2.GraphicsExtractor$ - Found 1 graphic areas, 1 after cleaning\n",
      "08:48:45.165 [sbt-bg-threads-1] DEBUG o.a.pdffigures2.FigureExtractor - On page 6\n",
      "08:48:45.189 [sbt-bg-threads-1] DEBUG o.a.pdffigures2.GraphicsExtractor$ - Found 4 graphic areas, 4 after cleaning\n",
      "08:48:45.202 [sbt-bg-threads-1] DEBUG o.a.pdffigures2.FigureExtractor - On page 2\n",
      "08:48:45.241 [sbt-bg-threads-1] DEBUG o.a.pdffigures2.GraphicsExtractor$ - Found 3 graphic areas, 3 after cleaning\n",
      "08:48:45.248 [sbt-bg-threads-1] DEBUG o.a.pdffigures2.FigureExtractor - On page 4\n",
      "08:48:45.259 [sbt-bg-threads-1] DEBUG o.a.pdffigures2.GraphicsExtractor$ - Found 3 graphic areas, 3 after cleaning\n",
      "08:48:46.570 [sbt-bg-threads-1] INFO  o.a.p.FigureExtractorBatchCli$ - Finished 1701.04783v1.Joint_Deep_Modeling_of_Users_and_Items_Using_Reviews_for_Recommendation.pdf in 2.529 seconds\n",
      "08:48:46.571 [sbt-bg-threads-1] INFO  o.a.p.FigureExtractorBatchCli$ - Finished processing 1 files\n",
      "08:48:46.571 [sbt-bg-threads-1] INFO  o.a.p.FigureExtractorBatchCli$ - Took 2.534 seconds\n",
      "08:48:46.573 [sbt-bg-threads-1] INFO  o.a.p.FigureExtractorBatchCli$ - Stats saved to stat_file.json\n",
      "08:48:46.573 [sbt-bg-threads-1] INFO  o.a.p.FigureExtractorBatchCli$ - No errors\n",
      "\u001b[0m[\u001b[0m\u001b[32msuccess\u001b[0m] \u001b[0m\u001b[0mTotal time: 3 s, completed Apr 1, 2024, 8:48:46 AM\u001b[0m\n",
      "\u001b[0J"
     ]
    },
    {
     "name": "stderr",
     "output_type": "stream",
     "text": [
      "  4%|▍         | 2/50 [00:18<07:17,  9.12s/it]"
     ]
    },
    {
     "name": "stdout",
     "output_type": "stream",
     "text": [
      "\u001b[0m[\u001b[0m\u001b[0minfo\u001b[0m] \u001b[0m\u001b[0mwelcome to sbt 1.7.1 (Eclipse Adoptium Java 11.0.22)\u001b[0m\n",
      "\u001b[0m[\u001b[0m\u001b[0minfo\u001b[0m] \u001b[0m\u001b[0mloading settings for project testngrok-build from plugins.sbt ...\u001b[0m\n",
      "\u001b[0m[\u001b[0m\u001b[0minfo\u001b[0m] \u001b[0m\u001b[0mloading project definition from /home/runner/work/TestNgrok/TestNgrok/project\u001b[0m\n",
      "\u001b[0m[\u001b[0m\u001b[0minfo\u001b[0m] \u001b[0m\u001b[0mloading settings for project root from build.sbt ...\u001b[0m\n",
      "\u001b[0m[\u001b[0m\u001b[0minfo\u001b[0m] \u001b[0m\u001b[0mset current project to pdffigures2 (in build file:/home/runner/work/TestNgrok/TestNgrok/)\u001b[0m\n",
      "\u001b[0m[\u001b[0m\u001b[0minfo\u001b[0m] \u001b[0m\u001b[0mrunning org.allenai.pdffigures2.FigureExtractorBatchCli pdf_dir_tmp/ -s stat_file.json -m output_dir/ -d output_dir/ -e\u001b[0m\n",
      "08:48:53.543 [sbt-bg-threads-1] INFO  o.a.p.FigureExtractorBatchCli$ - Processing file 1703.02344v1.Deep_Learning_based_Large_Scale_Visual_Recommendation_and_Search_for_E_Commerce.pdf (1 of 1)\n",
      "08:48:54.328 [sbt-bg-threads-1] DEBUG o.a.p.FormattingTextExtractor$ - Page numbers detected\n",
      "08:48:54.329 [sbt-bg-threads-1] DEBUG o.a.p.FormattingTextExtractor$ - Found abstract, marking as body text\n",
      "08:48:54.405 [sbt-bg-threads-1] DEBUG o.a.pdffigures2.DocumentLayout$ - Document was two column\n",
      "08:48:54.463 [sbt-bg-threads-1] DEBUG o.a.pdffigures2.CaptionDetector$ - Applied filter Colon Only, 13 remaining\n",
      "08:48:54.465 [sbt-bg-threads-1] DEBUG o.a.pdffigures2.FigureExtractor - On page 0\n",
      "08:48:54.491 [sbt-bg-threads-1] DEBUG o.a.pdffigures2.GraphicsExtractor$ - Found 6 graphic areas, 6 after cleaning\n",
      "08:48:54.528 [sbt-bg-threads-1] DEBUG o.a.pdffigures2.FigureExtractor - On page 5\n",
      "08:48:54.549 [sbt-bg-threads-1] DEBUG o.a.pdffigures2.GraphicsExtractor$ - Found 2 graphic areas, 2 after cleaning\n",
      "08:48:54.560 [sbt-bg-threads-1] DEBUG o.a.pdffigures2.FigureExtractor - On page 6\n",
      "08:48:54.608 [sbt-bg-threads-1] DEBUG o.a.pdffigures2.GraphicsExtractor$ - Found 3 graphic areas, 3 after cleaning\n",
      "08:48:54.617 [sbt-bg-threads-1] DEBUG o.a.pdffigures2.FigureExtractor - On page 2\n",
      "08:48:54.653 [sbt-bg-threads-1] DEBUG o.a.pdffigures2.GraphicsExtractor$ - Found 1 graphic areas, 1 after cleaning\n",
      "08:48:54.657 [sbt-bg-threads-1] DEBUG o.a.pdffigures2.FigureExtractor - On page 7\n",
      "08:48:54.664 [sbt-bg-threads-1] DEBUG o.a.pdffigures2.GraphicsExtractor$ - Found 5 graphic areas, 5 after cleaning\n",
      "08:48:54.671 [sbt-bg-threads-1] DEBUG o.a.pdffigures2.FigureExtractor - On page 3\n",
      "08:48:54.677 [sbt-bg-threads-1] DEBUG o.a.pdffigures2.GraphicsExtractor$ - Found 1 graphic areas, 1 after cleaning\n",
      "08:48:54.682 [sbt-bg-threads-1] DEBUG o.a.pdffigures2.FigureExtractor - On page 8\n",
      "08:48:54.685 [sbt-bg-threads-1] DEBUG o.a.pdffigures2.GraphicsExtractor$ - Found 1 graphic areas, 1 after cleaning\n",
      "08:48:54.687 [sbt-bg-threads-1] DEBUG o.a.pdffigures2.FigureExtractor - On page 4\n",
      "08:48:54.693 [sbt-bg-threads-1] DEBUG o.a.pdffigures2.GraphicsExtractor$ - Found 2 graphic areas, 2 after cleaning\n",
      "08:48:57.318 [sbt-bg-threads-1] INFO  o.a.p.FigureExtractorBatchCli$ - Finished 1703.02344v1.Deep_Learning_based_Large_Scale_Visual_Recommendation_and_Search_for_E_Commerce.pdf in 3.773 seconds\n",
      "08:48:57.319 [sbt-bg-threads-1] INFO  o.a.p.FigureExtractorBatchCli$ - Finished processing 1 files\n",
      "08:48:57.320 [sbt-bg-threads-1] INFO  o.a.p.FigureExtractorBatchCli$ - Took 3.777 seconds\n",
      "08:48:57.321 [sbt-bg-threads-1] INFO  o.a.p.FigureExtractorBatchCli$ - Stats saved to stat_file.json\n",
      "08:48:57.322 [sbt-bg-threads-1] INFO  o.a.p.FigureExtractorBatchCli$ - No errors\n",
      "\u001b[0m[\u001b[0m\u001b[32msuccess\u001b[0m] \u001b[0m\u001b[0mTotal time: 5 s, completed Apr 1, 2024, 8:48:57 AM\u001b[0m\n",
      "\u001b[0J"
     ]
    },
    {
     "name": "stderr",
     "output_type": "stream",
     "text": [
      "  6%|▌         | 3/50 [00:28<07:43,  9.87s/it]"
     ]
    },
    {
     "name": "stdout",
     "output_type": "stream",
     "text": [
      "\u001b[0m[\u001b[0m\u001b[0minfo\u001b[0m] \u001b[0m\u001b[0mwelcome to sbt 1.7.1 (Eclipse Adoptium Java 11.0.22)\u001b[0m\n",
      "\u001b[0m[\u001b[0m\u001b[0minfo\u001b[0m] \u001b[0m\u001b[0mloading settings for project testngrok-build from plugins.sbt ...\u001b[0m\n",
      "\u001b[0m[\u001b[0m\u001b[0minfo\u001b[0m] \u001b[0m\u001b[0mloading project definition from /home/runner/work/TestNgrok/TestNgrok/project\u001b[0m\n",
      "\u001b[0m[\u001b[0m\u001b[0minfo\u001b[0m] \u001b[0m\u001b[0mloading settings for project root from build.sbt ...\u001b[0m\n",
      "\u001b[0m[\u001b[0m\u001b[0minfo\u001b[0m] \u001b[0m\u001b[0mset current project to pdffigures2 (in build file:/home/runner/work/TestNgrok/TestNgrok/)\u001b[0m\n",
      "\u001b[0m[\u001b[0m\u001b[0minfo\u001b[0m] \u001b[0m\u001b[0mrunning org.allenai.pdffigures2.FigureExtractorBatchCli pdf_dir_tmp/ -s stat_file.json -m output_dir/ -d output_dir/ -e\u001b[0m\n",
      "08:49:04.148 [sbt-bg-threads-1] INFO  o.a.p.FigureExtractorBatchCli$ - Processing file 1707.07435v7.Deep_Learning_based_Recommender_System_A_Survey_and_New_Perspectives.pdf (1 of 1)\n",
      "08:49:05.623 [sbt-bg-threads-1] DEBUG o.a.pdffigures2.DocumentLayout$ - Document was not two column\n",
      "08:49:05.693 [sbt-bg-threads-1] DEBUG o.a.pdffigures2.CaptionDetector$ - Applied filter Non Standard Font: List(Figure, Table), 10 remaining\n",
      "08:49:05.696 [sbt-bg-threads-1] DEBUG o.a.pdffigures2.FigureExtractor - On page 14\n",
      "08:49:05.719 [sbt-bg-threads-1] DEBUG o.a.pdffigures2.GraphicsExtractor$ - Found 1 graphic areas, 1 after cleaning\n",
      "08:49:05.759 [sbt-bg-threads-1] DEBUG o.a.pdffigures2.FigureExtractor - On page 20\n",
      "08:49:05.765 [sbt-bg-threads-1] DEBUG o.a.pdffigures2.GraphicsExtractor$ - Found 1 graphic areas, 1 after cleaning\n",
      "08:49:05.771 [sbt-bg-threads-1] DEBUG o.a.pdffigures2.FigureExtractor - On page 9\n",
      "08:49:05.774 [sbt-bg-threads-1] DEBUG o.a.pdffigures2.GraphicsExtractor$ - Found 2 graphic areas, 2 after cleaning\n",
      "08:49:05.780 [sbt-bg-threads-1] DEBUG o.a.pdffigures2.FigureExtractor - On page 12\n",
      "08:49:05.787 [sbt-bg-threads-1] DEBUG o.a.pdffigures2.GraphicsExtractor$ - Found 2 graphic areas, 2 after cleaning\n",
      "08:49:05.790 [sbt-bg-threads-1] DEBUG o.a.pdffigures2.FigureExtractor - On page 7\n",
      "08:49:05.801 [sbt-bg-threads-1] DEBUG o.a.pdffigures2.GraphicsExtractor$ - Found 2 graphic areas, 2 after cleaning\n",
      "08:49:05.804 [sbt-bg-threads-1] DEBUG o.a.pdffigures2.FigureExtractor - On page 18\n",
      "08:49:05.807 [sbt-bg-threads-1] DEBUG o.a.pdffigures2.GraphicsExtractor$ - Found 1 graphic areas, 1 after cleaning\n",
      "08:49:05.810 [sbt-bg-threads-1] DEBUG o.a.pdffigures2.FigureExtractor - On page 11\n",
      "08:49:05.813 [sbt-bg-threads-1] DEBUG o.a.pdffigures2.GraphicsExtractor$ - Found 3 graphic areas, 3 after cleaning\n",
      "08:49:05.816 [sbt-bg-threads-1] DEBUG o.a.pdffigures2.FigureExtractor - On page 8\n",
      "08:49:05.827 [sbt-bg-threads-1] DEBUG o.a.pdffigures2.GraphicsExtractor$ - Found 1 graphic areas, 1 after cleaning\n",
      "08:49:07.306 [sbt-bg-threads-1] INFO  o.a.p.FigureExtractorBatchCli$ - Finished 1707.07435v7.Deep_Learning_based_Recommender_System_A_Survey_and_New_Perspectives.pdf in 3.154 seconds\n",
      "08:49:07.308 [sbt-bg-threads-1] INFO  o.a.p.FigureExtractorBatchCli$ - Finished processing 1 files\n",
      "08:49:07.308 [sbt-bg-threads-1] INFO  o.a.p.FigureExtractorBatchCli$ - Took 3.16 seconds\n",
      "08:49:07.309 [sbt-bg-threads-1] INFO  o.a.p.FigureExtractorBatchCli$ - Stats saved to stat_file.json\n",
      "08:49:07.310 [sbt-bg-threads-1] INFO  o.a.p.FigureExtractorBatchCli$ - No errors\n",
      "\u001b[0m[\u001b[0m\u001b[32msuccess\u001b[0m] \u001b[0m\u001b[0mTotal time: 4 s, completed Apr 1, 2024, 8:49:07 AM\u001b[0m\n",
      "\u001b[0J"
     ]
    },
    {
     "name": "stderr",
     "output_type": "stream",
     "text": [
      "  8%|▊         | 4/50 [00:38<07:35,  9.91s/it]"
     ]
    },
    {
     "name": "stdout",
     "output_type": "stream",
     "text": [
      "\u001b[0m[\u001b[0m\u001b[0minfo\u001b[0m] \u001b[0m\u001b[0mwelcome to sbt 1.7.1 (Eclipse Adoptium Java 11.0.22)\u001b[0m\n",
      "\u001b[0m[\u001b[0m\u001b[0minfo\u001b[0m] \u001b[0m\u001b[0mloading settings for project testngrok-build from plugins.sbt ...\u001b[0m\n",
      "\u001b[0m[\u001b[0m\u001b[0minfo\u001b[0m] \u001b[0m\u001b[0mloading project definition from /home/runner/work/TestNgrok/TestNgrok/project\u001b[0m\n",
      "\u001b[0m[\u001b[0m\u001b[0minfo\u001b[0m] \u001b[0m\u001b[0mloading settings for project root from build.sbt ...\u001b[0m\n",
      "\u001b[0m[\u001b[0m\u001b[0minfo\u001b[0m] \u001b[0m\u001b[0mset current project to pdffigures2 (in build file:/home/runner/work/TestNgrok/TestNgrok/)\u001b[0m\n",
      "\u001b[0m[\u001b[0m\u001b[0minfo\u001b[0m] \u001b[0m\u001b[0mrunning org.allenai.pdffigures2.FigureExtractorBatchCli pdf_dir_tmp/ -s stat_file.json -m output_dir/ -d output_dir/ -e\u001b[0m\n",
      "08:49:14.432 [sbt-bg-threads-1] INFO  o.a.p.FigureExtractorBatchCli$ - Processing file 1711.02487v3.Deep_density_networks_and_uncertainty_in_recommender_systems.pdf (1 of 1)\n",
      "08:49:15.203 [sbt-bg-threads-1] DEBUG o.a.p.FormattingTextExtractor$ - Found abstract, marking as body text\n",
      "08:49:15.273 [sbt-bg-threads-1] DEBUG o.a.pdffigures2.DocumentLayout$ - Document was two column\n",
      "08:49:15.345 [sbt-bg-threads-1] DEBUG o.a.pdffigures2.CaptionDetector$ - Applied filter Colon Only, 12 remaining\n",
      "08:49:15.348 [sbt-bg-threads-1] DEBUG o.a.pdffigures2.FigureExtractor - On page 5\n",
      "08:49:15.407 [sbt-bg-threads-1] DEBUG o.a.pdffigures2.GraphicsExtractor$ - Found 5 graphic areas, 5 after cleaning\n",
      "08:49:15.472 [sbt-bg-threads-1] DEBUG o.a.pdffigures2.FigureExtractor - On page 1\n",
      "08:49:15.476 [sbt-bg-threads-1] DEBUG o.a.pdffigures2.GraphicsExtractor$ - Found 1 graphic areas, 1 after cleaning\n",
      "08:49:15.482 [sbt-bg-threads-1] DEBUG o.a.pdffigures2.FigureExtractor - On page 6\n",
      "08:49:15.491 [sbt-bg-threads-1] DEBUG o.a.pdffigures2.GraphicsExtractor$ - Found 1 graphic areas, 1 after cleaning\n",
      "08:49:15.497 [sbt-bg-threads-1] DEBUG o.a.pdffigures2.FigureExtractor - On page 2\n",
      "08:49:15.499 [sbt-bg-threads-1] DEBUG o.a.pdffigures2.GraphicsExtractor$ - Found 2 graphic areas, 2 after cleaning\n",
      "08:49:15.502 [sbt-bg-threads-1] DEBUG o.a.pdffigures2.FigureExtractor - On page 4\n",
      "08:49:15.549 [sbt-bg-threads-1] DEBUG o.a.pdffigures2.GraphicsExtractor$ - Found 5 graphic areas, 5 after cleaning\n",
      "08:49:17.219 [sbt-bg-threads-1] INFO  o.a.p.FigureExtractorBatchCli$ - Finished 1711.02487v3.Deep_density_networks_and_uncertainty_in_recommender_systems.pdf in 2.783 seconds\n",
      "08:49:17.220 [sbt-bg-threads-1] INFO  o.a.p.FigureExtractorBatchCli$ - Finished processing 1 files\n",
      "08:49:17.220 [sbt-bg-threads-1] INFO  o.a.p.FigureExtractorBatchCli$ - Took 2.789 seconds\n",
      "08:49:17.227 [sbt-bg-threads-1] INFO  o.a.p.FigureExtractorBatchCli$ - Stats saved to stat_file.json\n",
      "08:49:17.227 [sbt-bg-threads-1] INFO  o.a.p.FigureExtractorBatchCli$ - No errors\n",
      "\u001b[0m[\u001b[0m\u001b[32msuccess\u001b[0m] \u001b[0m\u001b[0mTotal time: 4 s, completed Apr 1, 2024, 8:49:17 AM\u001b[0m\n",
      "\u001b[0J"
     ]
    },
    {
     "name": "stderr",
     "output_type": "stream",
     "text": [
      " 10%|█         | 5/50 [00:48<07:26,  9.91s/it]"
     ]
    },
    {
     "name": "stdout",
     "output_type": "stream",
     "text": [
      "\u001b[0m[\u001b[0m\u001b[0minfo\u001b[0m] \u001b[0m\u001b[0mwelcome to sbt 1.7.1 (Eclipse Adoptium Java 11.0.22)\u001b[0m\n",
      "\u001b[0m[\u001b[0m\u001b[0minfo\u001b[0m] \u001b[0m\u001b[0mloading settings for project testngrok-build from plugins.sbt ...\u001b[0m\n",
      "\u001b[0m[\u001b[0m\u001b[0minfo\u001b[0m] \u001b[0m\u001b[0mloading project definition from /home/runner/work/TestNgrok/TestNgrok/project\u001b[0m\n",
      "\u001b[0m[\u001b[0m\u001b[0minfo\u001b[0m] \u001b[0m\u001b[0mloading settings for project root from build.sbt ...\u001b[0m\n",
      "\u001b[0m[\u001b[0m\u001b[0minfo\u001b[0m] \u001b[0m\u001b[0mset current project to pdffigures2 (in build file:/home/runner/work/TestNgrok/TestNgrok/)\u001b[0m\n",
      "\u001b[0m[\u001b[0m\u001b[0minfo\u001b[0m] \u001b[0m\u001b[0mrunning org.allenai.pdffigures2.FigureExtractorBatchCli pdf_dir_tmp/ -s stat_file.json -m output_dir/ -d output_dir/ -e\u001b[0m\n",
      "08:49:24.230 [sbt-bg-threads-1] INFO  o.a.p.FigureExtractorBatchCli$ - Processing file 1712.07525v1.Use_of_Deep_Learning_in_Modern_Recommendation_System_A_Summary_of_Recent_Works.pdf (1 of 1)\n",
      "08:49:24.834 [sbt-bg-threads-1] DEBUG o.a.p.FormattingTextExtractor$ - Page numbers detected\n",
      "08:49:24.835 [sbt-bg-threads-1] DEBUG o.a.p.FormattingTextExtractor$ - Found abstract, marking as body text\n",
      "08:49:24.885 [sbt-bg-threads-1] DEBUG o.a.pdffigures2.DocumentLayout$ - Document was two column\n",
      "08:49:24.957 [sbt-bg-threads-1] INFO  o.a.p.FigureExtractorBatchCli$ - Finished 1712.07525v1.Use_of_Deep_Learning_in_Modern_Recommendation_System_A_Summary_of_Recent_Works.pdf in 0.725 seconds\n",
      "08:49:24.958 [sbt-bg-threads-1] INFO  o.a.p.FigureExtractorBatchCli$ - Finished processing 1 files\n",
      "08:49:24.959 [sbt-bg-threads-1] INFO  o.a.p.FigureExtractorBatchCli$ - Took 0.729 seconds\n",
      "08:49:24.966 [sbt-bg-threads-1] INFO  o.a.p.FigureExtractorBatchCli$ - Stats saved to stat_file.json\n",
      "08:49:24.967 [sbt-bg-threads-1] INFO  o.a.p.FigureExtractorBatchCli$ - No errors\n",
      "\u001b[0m[\u001b[0m\u001b[32msuccess\u001b[0m] \u001b[0m\u001b[0mTotal time: 2 s, completed Apr 1, 2024, 8:49:24 AM\u001b[0m\n",
      "\u001b[0J"
     ]
    },
    {
     "name": "stderr",
     "output_type": "stream",
     "text": [
      " 12%|█▏        | 6/50 [00:56<06:43,  9.17s/it]"
     ]
    },
    {
     "name": "stdout",
     "output_type": "stream",
     "text": [
      "\u001b[0m[\u001b[0m\u001b[0minfo\u001b[0m] \u001b[0m\u001b[0mwelcome to sbt 1.7.1 (Eclipse Adoptium Java 11.0.22)\u001b[0m\n",
      "\u001b[0m[\u001b[0m\u001b[0minfo\u001b[0m] \u001b[0m\u001b[0mloading settings for project testngrok-build from plugins.sbt ...\u001b[0m\n",
      "\u001b[0m[\u001b[0m\u001b[0minfo\u001b[0m] \u001b[0m\u001b[0mloading project definition from /home/runner/work/TestNgrok/TestNgrok/project\u001b[0m\n",
      "\u001b[0m[\u001b[0m\u001b[0minfo\u001b[0m] \u001b[0m\u001b[0mloading settings for project root from build.sbt ...\u001b[0m\n",
      "\u001b[0m[\u001b[0m\u001b[0minfo\u001b[0m] \u001b[0m\u001b[0mset current project to pdffigures2 (in build file:/home/runner/work/TestNgrok/TestNgrok/)\u001b[0m\n",
      "\u001b[0m[\u001b[0m\u001b[0minfo\u001b[0m] \u001b[0m\u001b[0mrunning org.allenai.pdffigures2.FigureExtractorBatchCli pdf_dir_tmp/ -s stat_file.json -m output_dir/ -d output_dir/ -e\u001b[0m\n",
      "08:49:31.946 [sbt-bg-threads-1] INFO  o.a.p.FigureExtractorBatchCli$ - Processing file 1801.00209v3.Deep_Reinforcement_Learning_for_List_wise_Recommendations.pdf (1 of 1)\n",
      "08:49:32.930 [sbt-bg-threads-1] DEBUG o.a.p.FormattingTextExtractor$ - Found abstract, marking as body text\n",
      "08:49:33.005 [sbt-bg-threads-1] DEBUG o.a.pdffigures2.DocumentLayout$ - Document was two column\n",
      "08:49:33.085 [sbt-bg-threads-1] DEBUG o.a.pdffigures2.CaptionDetector$ - Applied filter Colon Only, 6 remaining\n",
      "08:49:33.088 [sbt-bg-threads-1] DEBUG o.a.pdffigures2.FigureExtractor - On page 1\n",
      "08:49:33.115 [sbt-bg-threads-1] DEBUG o.a.pdffigures2.GraphicsExtractor$ - Found 1 graphic areas, 1 after cleaning\n",
      "08:49:33.162 [sbt-bg-threads-1] DEBUG o.a.pdffigures2.FigureExtractor - On page 6\n",
      "08:49:33.206 [sbt-bg-threads-1] DEBUG o.a.pdffigures2.GraphicsExtractor$ - Found 4 graphic areas, 4 after cleaning\n",
      "08:49:33.222 [sbt-bg-threads-1] DEBUG o.a.pdffigures2.FigureExtractor - On page 2\n",
      "08:49:33.237 [sbt-bg-threads-1] DEBUG o.a.pdffigures2.GraphicsExtractor$ - Found 1 graphic areas, 1 after cleaning\n",
      "08:49:33.243 [sbt-bg-threads-1] DEBUG o.a.pdffigures2.FigureExtractor - On page 7\n",
      "08:49:33.359 [sbt-bg-threads-1] DEBUG o.a.pdffigures2.GraphicsExtractor$ - Found 3 graphic areas, 3 after cleaning\n",
      "08:49:33.364 [sbt-bg-threads-1] DEBUG o.a.pdffigures2.FigureExtractor - On page 4\n",
      "08:49:33.369 [sbt-bg-threads-1] DEBUG o.a.pdffigures2.GraphicsExtractor$ - Found 4 graphic areas, 4 after cleaning\n",
      "08:49:34.797 [sbt-bg-threads-1] INFO  o.a.p.FigureExtractorBatchCli$ - Finished 1801.00209v3.Deep_Reinforcement_Learning_for_List_wise_Recommendations.pdf in 2.848 seconds\n",
      "08:49:34.798 [sbt-bg-threads-1] INFO  o.a.p.FigureExtractorBatchCli$ - Finished processing 1 files\n",
      "08:49:34.798 [sbt-bg-threads-1] INFO  o.a.p.FigureExtractorBatchCli$ - Took 2.852 seconds\n",
      "08:49:34.800 [sbt-bg-threads-1] INFO  o.a.p.FigureExtractorBatchCli$ - Stats saved to stat_file.json\n",
      "08:49:34.800 [sbt-bg-threads-1] INFO  o.a.p.FigureExtractorBatchCli$ - No errors\n",
      "\u001b[0m[\u001b[0m\u001b[32msuccess\u001b[0m] \u001b[0m\u001b[0mTotal time: 4 s, completed Apr 1, 2024, 8:49:34 AM\u001b[0m\n",
      "\u001b[0J"
     ]
    },
    {
     "name": "stderr",
     "output_type": "stream",
     "text": [
      " 14%|█▍        | 7/50 [01:06<06:43,  9.39s/it]"
     ]
    },
    {
     "name": "stdout",
     "output_type": "stream",
     "text": [
      "\u001b[0m[\u001b[0m\u001b[0minfo\u001b[0m] \u001b[0m\u001b[0mwelcome to sbt 1.7.1 (Eclipse Adoptium Java 11.0.22)\u001b[0m\n",
      "\u001b[0m[\u001b[0m\u001b[0minfo\u001b[0m] \u001b[0m\u001b[0mloading settings for project testngrok-build from plugins.sbt ...\u001b[0m\n",
      "\u001b[0m[\u001b[0m\u001b[0minfo\u001b[0m] \u001b[0m\u001b[0mloading project definition from /home/runner/work/TestNgrok/TestNgrok/project\u001b[0m\n",
      "\u001b[0m[\u001b[0m\u001b[0minfo\u001b[0m] \u001b[0m\u001b[0mloading settings for project root from build.sbt ...\u001b[0m\n",
      "\u001b[0m[\u001b[0m\u001b[0minfo\u001b[0m] \u001b[0m\u001b[0mset current project to pdffigures2 (in build file:/home/runner/work/TestNgrok/TestNgrok/)\u001b[0m\n",
      "\u001b[0m[\u001b[0m\u001b[0minfo\u001b[0m] \u001b[0m\u001b[0mrunning org.allenai.pdffigures2.FigureExtractorBatchCli pdf_dir_tmp/ -s stat_file.json -m output_dir/ -d output_dir/ -e\u001b[0m\n",
      "08:49:41.756 [sbt-bg-threads-1] INFO  o.a.p.FigureExtractorBatchCli$ - Processing file 1801.02294v5.Learning_Tree_based_Deep_Model_for_Recommender_Systems.pdf (1 of 1)\n",
      "08:49:42.624 [sbt-bg-threads-1] DEBUG o.a.p.FormattingTextExtractor$ - Page numbers detected\n",
      "08:49:42.625 [sbt-bg-threads-1] DEBUG o.a.p.FormattingTextExtractor$ - Found abstract, marking as body text\n",
      "08:49:42.691 [sbt-bg-threads-1] DEBUG o.a.pdffigures2.DocumentLayout$ - Document was two column\n",
      "08:49:42.754 [sbt-bg-threads-1] DEBUG o.a.pdffigures2.CaptionDetector$ - Applied filter Colon Only, 10 remaining\n",
      "08:49:42.756 [sbt-bg-threads-1] DEBUG o.a.pdffigures2.FigureExtractor - On page 5\n",
      "08:49:42.803 [sbt-bg-threads-1] DEBUG o.a.pdffigures2.GraphicsExtractor$ - Found 9 graphic areas, 9 after cleaning\n",
      "08:49:42.857 [sbt-bg-threads-1] DEBUG o.a.pdffigures2.FigureExtractor - On page 2\n",
      "08:49:42.865 [sbt-bg-threads-1] DEBUG o.a.pdffigures2.GraphicsExtractor$ - Found 2 graphic areas, 2 after cleaning\n",
      "08:49:42.873 [sbt-bg-threads-1] DEBUG o.a.pdffigures2.FigureExtractor - On page 7\n",
      "08:49:42.913 [sbt-bg-threads-1] DEBUG o.a.pdffigures2.GraphicsExtractor$ - Found 5 graphic areas, 5 after cleaning\n",
      "08:49:42.920 [sbt-bg-threads-1] DEBUG o.a.pdffigures2.FigureExtractor - On page 8\n",
      "08:49:42.930 [sbt-bg-threads-1] DEBUG o.a.pdffigures2.GraphicsExtractor$ - Found 8 graphic areas, 8 after cleaning\n",
      "08:49:42.939 [sbt-bg-threads-1] DEBUG o.a.pdffigures2.FigureExtractor - On page 4\n",
      "08:49:42.963 [sbt-bg-threads-1] DEBUG o.a.pdffigures2.GraphicsExtractor$ - Found 1 graphic areas, 1 after cleaning\n",
      "08:49:43.960 [sbt-bg-threads-1] INFO  o.a.p.FigureExtractorBatchCli$ - Finished 1801.02294v5.Learning_Tree_based_Deep_Model_for_Recommender_Systems.pdf in 2.201 seconds\n",
      "08:49:43.961 [sbt-bg-threads-1] INFO  o.a.p.FigureExtractorBatchCli$ - Finished processing 1 files\n",
      "08:49:43.961 [sbt-bg-threads-1] INFO  o.a.p.FigureExtractorBatchCli$ - Took 2.206 seconds\n",
      "08:49:43.963 [sbt-bg-threads-1] INFO  o.a.p.FigureExtractorBatchCli$ - Stats saved to stat_file.json\n",
      "08:49:43.964 [sbt-bg-threads-1] INFO  o.a.p.FigureExtractorBatchCli$ - No errors\n",
      "\u001b[0m[\u001b[0m\u001b[32msuccess\u001b[0m] \u001b[0m\u001b[0mTotal time: 3 s, completed Apr 1, 2024, 8:49:43 AM\u001b[0m\n",
      "\u001b[0J"
     ]
    },
    {
     "name": "stderr",
     "output_type": "stream",
     "text": [
      " 16%|█▌        | 8/50 [01:15<06:31,  9.32s/it]"
     ]
    },
    {
     "name": "stdout",
     "output_type": "stream",
     "text": [
      "\u001b[0m[\u001b[0m\u001b[0minfo\u001b[0m] \u001b[0m\u001b[0mwelcome to sbt 1.7.1 (Eclipse Adoptium Java 11.0.22)\u001b[0m\n",
      "\u001b[0m[\u001b[0m\u001b[0minfo\u001b[0m] \u001b[0m\u001b[0mloading settings for project testngrok-build from plugins.sbt ...\u001b[0m\n",
      "\u001b[0m[\u001b[0m\u001b[0minfo\u001b[0m] \u001b[0m\u001b[0mloading project definition from /home/runner/work/TestNgrok/TestNgrok/project\u001b[0m\n",
      "\u001b[0m[\u001b[0m\u001b[0minfo\u001b[0m] \u001b[0m\u001b[0mloading settings for project root from build.sbt ...\u001b[0m\n",
      "\u001b[0m[\u001b[0m\u001b[0minfo\u001b[0m] \u001b[0m\u001b[0mset current project to pdffigures2 (in build file:/home/runner/work/TestNgrok/TestNgrok/)\u001b[0m\n",
      "\u001b[0m[\u001b[0m\u001b[0minfo\u001b[0m] \u001b[0m\u001b[0mrunning org.allenai.pdffigures2.FigureExtractorBatchCli pdf_dir_tmp/ -s stat_file.json -m output_dir/ -d output_dir/ -e\u001b[0m\n",
      "08:49:51.045 [sbt-bg-threads-1] INFO  o.a.p.FigureExtractorBatchCli$ - Processing file 1802.06501v3.Recommendations_with_Negative_Feedback_via_Pairwise_Deep_Reinforcement_Learning.pdf (1 of 1)\n",
      "08:49:52.212 [sbt-bg-threads-1] DEBUG o.a.p.FormattingTextExtractor$ - Found abstract, marking as body text\n",
      "08:49:52.275 [sbt-bg-threads-1] DEBUG o.a.pdffigures2.DocumentLayout$ - Document was two column\n",
      "08:49:52.333 [sbt-bg-threads-1] DEBUG o.a.pdffigures2.CaptionDetector$ - Applied filter Colon Only, 8 remaining\n",
      "08:49:52.336 [sbt-bg-threads-1] DEBUG o.a.pdffigures2.FigureExtractor - On page 1\n",
      "08:49:52.358 [sbt-bg-threads-1] DEBUG o.a.pdffigures2.GraphicsExtractor$ - Found 1 graphic areas, 1 after cleaning\n",
      "08:49:52.402 [sbt-bg-threads-1] DEBUG o.a.pdffigures2.FigureExtractor - On page 6\n",
      "08:49:52.475 [sbt-bg-threads-1] DEBUG o.a.pdffigures2.GraphicsExtractor$ - Found 3 graphic areas, 3 after cleaning\n",
      "08:49:52.489 [sbt-bg-threads-1] DEBUG o.a.pdffigures2.FigureExtractor - On page 2\n",
      "08:49:52.505 [sbt-bg-threads-1] DEBUG o.a.pdffigures2.GraphicsExtractor$ - Found 3 graphic areas, 3 after cleaning\n",
      "08:49:52.515 [sbt-bg-threads-1] DEBUG o.a.pdffigures2.FigureExtractor - On page 7\n",
      "08:49:52.525 [sbt-bg-threads-1] DEBUG o.a.pdffigures2.GraphicsExtractor$ - Found 2 graphic areas, 2 after cleaning\n",
      "08:49:52.530 [sbt-bg-threads-1] DEBUG o.a.pdffigures2.FigureExtractor - On page 3\n",
      "08:49:52.541 [sbt-bg-threads-1] DEBUG o.a.pdffigures2.GraphicsExtractor$ - Found 3 graphic areas, 3 after cleaning\n",
      "08:49:52.547 [sbt-bg-threads-1] DEBUG o.a.pdffigures2.FigureExtractor - On page 4\n",
      "08:49:52.552 [sbt-bg-threads-1] DEBUG o.a.pdffigures2.GraphicsExtractor$ - Found 6 graphic areas, 6 after cleaning\n",
      "08:49:53.776 [sbt-bg-threads-1] INFO  o.a.p.FigureExtractorBatchCli$ - Finished 1802.06501v3.Recommendations_with_Negative_Feedback_via_Pairwise_Deep_Reinforcement_Learning.pdf in 2.728 seconds\n",
      "08:49:53.777 [sbt-bg-threads-1] INFO  o.a.p.FigureExtractorBatchCli$ - Finished processing 1 files\n",
      "08:49:53.777 [sbt-bg-threads-1] INFO  o.a.p.FigureExtractorBatchCli$ - Took 2.732 seconds\n",
      "08:49:53.779 [sbt-bg-threads-1] INFO  o.a.p.FigureExtractorBatchCli$ - Stats saved to stat_file.json\n",
      "08:49:53.780 [sbt-bg-threads-1] INFO  o.a.p.FigureExtractorBatchCli$ - No errors\n",
      "\u001b[0m[\u001b[0m\u001b[32msuccess\u001b[0m] \u001b[0m\u001b[0mTotal time: 4 s, completed Apr 1, 2024, 8:49:53 AM\u001b[0m\n",
      "\u001b[0J"
     ]
    },
    {
     "name": "stderr",
     "output_type": "stream",
     "text": [
      " 18%|█▊        | 9/50 [01:25<06:28,  9.47s/it]"
     ]
    },
    {
     "name": "stdout",
     "output_type": "stream",
     "text": [
      "\u001b[0m[\u001b[0m\u001b[0minfo\u001b[0m] \u001b[0m\u001b[0mwelcome to sbt 1.7.1 (Eclipse Adoptium Java 11.0.22)\u001b[0m\n",
      "\u001b[0m[\u001b[0m\u001b[0minfo\u001b[0m] \u001b[0m\u001b[0mloading settings for project testngrok-build from plugins.sbt ...\u001b[0m\n",
      "\u001b[0m[\u001b[0m\u001b[0minfo\u001b[0m] \u001b[0m\u001b[0mloading project definition from /home/runner/work/TestNgrok/TestNgrok/project\u001b[0m\n",
      "\u001b[0m[\u001b[0m\u001b[0minfo\u001b[0m] \u001b[0m\u001b[0mloading settings for project root from build.sbt ...\u001b[0m\n",
      "\u001b[0m[\u001b[0m\u001b[0minfo\u001b[0m] \u001b[0m\u001b[0mset current project to pdffigures2 (in build file:/home/runner/work/TestNgrok/TestNgrok/)\u001b[0m\n",
      "\u001b[0m[\u001b[0m\u001b[0minfo\u001b[0m] \u001b[0m\u001b[0mrunning org.allenai.pdffigures2.FigureExtractorBatchCli pdf_dir_tmp/ -s stat_file.json -m output_dir/ -d output_dir/ -e\u001b[0m\n",
      "08:50:00.711 [sbt-bg-threads-1] INFO  o.a.p.FigureExtractorBatchCli$ - Processing file 1805.02343v2.Deep_Reinforcement_Learning_for_Page_wise_Recommendations.pdf (1 of 1)\n",
      "08:50:02.106 [sbt-bg-threads-1] DEBUG o.a.p.FormattingTextExtractor$ - Found abstract, marking as body text\n",
      "08:50:02.183 [sbt-bg-threads-1] DEBUG o.a.pdffigures2.DocumentLayout$ - Document was two column\n",
      "08:50:02.252 [sbt-bg-threads-1] DEBUG o.a.pdffigures2.CaptionDetector$ - Applied filter Colon Only, 8 remaining\n",
      "08:50:02.254 [sbt-bg-threads-1] DEBUG o.a.pdffigures2.FigureExtractor - On page 0\n",
      "08:50:02.279 [sbt-bg-threads-1] DEBUG o.a.pdffigures2.GraphicsExtractor$ - Found 2 graphic areas, 2 after cleaning\n",
      "08:50:02.330 [sbt-bg-threads-1] DEBUG o.a.pdffigures2.FigureExtractor - On page 1\n",
      "08:50:02.351 [sbt-bg-threads-1] DEBUG o.a.pdffigures2.GraphicsExtractor$ - Found 1 graphic areas, 1 after cleaning\n",
      "08:50:02.362 [sbt-bg-threads-1] DEBUG o.a.pdffigures2.FigureExtractor - On page 6\n",
      "08:50:02.403 [sbt-bg-threads-1] DEBUG o.a.pdffigures2.GraphicsExtractor$ - Found 10 graphic areas, 10 after cleaning\n",
      "08:50:02.410 [sbt-bg-threads-1] DEBUG o.a.pdffigures2.FigureExtractor - On page 2\n",
      "08:50:02.423 [sbt-bg-threads-1] DEBUG o.a.pdffigures2.GraphicsExtractor$ - Found 2 graphic areas, 2 after cleaning\n",
      "08:50:02.430 [sbt-bg-threads-1] DEBUG o.a.pdffigures2.FigureExtractor - On page 7\n",
      "08:50:02.455 [sbt-bg-threads-1] DEBUG o.a.pdffigures2.GraphicsExtractor$ - Found 4 graphic areas, 4 after cleaning\n",
      "08:50:02.460 [sbt-bg-threads-1] DEBUG o.a.pdffigures2.FigureExtractor - On page 3\n",
      "08:50:02.488 [sbt-bg-threads-1] DEBUG o.a.pdffigures2.GraphicsExtractor$ - Found 2 graphic areas, 2 after cleaning\n",
      "08:50:02.496 [sbt-bg-threads-1] DEBUG o.a.pdffigures2.FigureExtractor - On page 4\n",
      "08:50:02.513 [sbt-bg-threads-1] DEBUG o.a.pdffigures2.GraphicsExtractor$ - Found 12 graphic areas, 12 after cleaning\n",
      "08:50:03.735 [sbt-bg-threads-1] INFO  o.a.p.FigureExtractorBatchCli$ - Finished 1805.02343v2.Deep_Reinforcement_Learning_for_Page_wise_Recommendations.pdf in 3.021 seconds\n",
      "08:50:03.736 [sbt-bg-threads-1] INFO  o.a.p.FigureExtractorBatchCli$ - Finished processing 1 files\n",
      "08:50:03.737 [sbt-bg-threads-1] INFO  o.a.p.FigureExtractorBatchCli$ - Took 3.027 seconds\n",
      "08:50:03.744 [sbt-bg-threads-1] INFO  o.a.p.FigureExtractorBatchCli$ - Stats saved to stat_file.json\n",
      "08:50:03.745 [sbt-bg-threads-1] INFO  o.a.p.FigureExtractorBatchCli$ - No errors\n",
      "\u001b[0m[\u001b[0m\u001b[32msuccess\u001b[0m] \u001b[0m\u001b[0mTotal time: 4 s, completed Apr 1, 2024, 8:50:03 AM\u001b[0m\n",
      "\u001b[0J"
     ]
    },
    {
     "name": "stderr",
     "output_type": "stream",
     "text": [
      " 20%|██        | 10/50 [01:35<06:24,  9.62s/it]"
     ]
    },
    {
     "name": "stdout",
     "output_type": "stream",
     "text": [
      "\u001b[0m[\u001b[0m\u001b[0minfo\u001b[0m] \u001b[0m\u001b[0mwelcome to sbt 1.7.1 (Eclipse Adoptium Java 11.0.22)\u001b[0m\n",
      "\u001b[0m[\u001b[0m\u001b[0minfo\u001b[0m] \u001b[0m\u001b[0mloading settings for project testngrok-build from plugins.sbt ...\u001b[0m\n",
      "\u001b[0m[\u001b[0m\u001b[0minfo\u001b[0m] \u001b[0m\u001b[0mloading project definition from /home/runner/work/TestNgrok/TestNgrok/project\u001b[0m\n",
      "\u001b[0m[\u001b[0m\u001b[0minfo\u001b[0m] \u001b[0m\u001b[0mloading settings for project root from build.sbt ...\u001b[0m\n",
      "\u001b[0m[\u001b[0m\u001b[0minfo\u001b[0m] \u001b[0m\u001b[0mset current project to pdffigures2 (in build file:/home/runner/work/TestNgrok/TestNgrok/)\u001b[0m\n",
      "\u001b[0m[\u001b[0m\u001b[0minfo\u001b[0m] \u001b[0m\u001b[0mrunning org.allenai.pdffigures2.FigureExtractorBatchCli pdf_dir_tmp/ -s stat_file.json -m output_dir/ -d output_dir/ -e\u001b[0m\n",
      "08:50:10.548 [sbt-bg-threads-1] INFO  o.a.p.FigureExtractorBatchCli$ - Processing file 1808.00076v3.News_Session_Based_Recommendations_using_Deep_Neural_Networks.pdf (1 of 1)\n",
      "08:50:11.408 [sbt-bg-threads-1] DEBUG o.a.p.FormattingTextExtractor$ - Found abstract, marking as body text\n",
      "08:50:11.483 [sbt-bg-threads-1] DEBUG o.a.pdffigures2.DocumentLayout$ - Document was two column\n",
      "08:50:11.547 [sbt-bg-threads-1] DEBUG o.a.pdffigures2.CaptionDetector$ - Applied filter Colon Only, 10 remaining\n",
      "08:50:11.551 [sbt-bg-threads-1] DEBUG o.a.pdffigures2.FigureExtractor - On page 3\n",
      "08:50:11.583 [sbt-bg-threads-1] DEBUG o.a.pdffigures2.GraphicsExtractor$ - Found 2 graphic areas, 2 after cleaning\n",
      "08:50:11.647 [sbt-bg-threads-1] DEBUG o.a.pdffigures2.FigureExtractor - On page 1\n",
      "08:50:11.651 [sbt-bg-threads-1] DEBUG o.a.pdffigures2.GraphicsExtractor$ - Found 2 graphic areas, 2 after cleaning\n",
      "08:50:11.660 [sbt-bg-threads-1] DEBUG o.a.pdffigures2.FigureExtractor - On page 6\n",
      "08:50:11.664 [sbt-bg-threads-1] DEBUG o.a.pdffigures2.GraphicsExtractor$ - Found 3 graphic areas, 3 after cleaning\n",
      "08:50:11.669 [sbt-bg-threads-1] DEBUG o.a.pdffigures2.FigureExtractor - On page 5\n",
      "08:50:11.673 [sbt-bg-threads-1] DEBUG o.a.pdffigures2.GraphicsExtractor$ - Found 3 graphic areas, 3 after cleaning\n",
      "08:50:13.930 [sbt-bg-threads-1] INFO  o.a.p.FigureExtractorBatchCli$ - Finished 1808.00076v3.News_Session_Based_Recommendations_using_Deep_Neural_Networks.pdf in 3.379 seconds\n",
      "08:50:13.931 [sbt-bg-threads-1] INFO  o.a.p.FigureExtractorBatchCli$ - Finished processing 1 files\n",
      "08:50:13.931 [sbt-bg-threads-1] INFO  o.a.p.FigureExtractorBatchCli$ - Took 3.384 seconds\n",
      "08:50:13.933 [sbt-bg-threads-1] INFO  o.a.p.FigureExtractorBatchCli$ - Stats saved to stat_file.json\n",
      "08:50:13.933 [sbt-bg-threads-1] INFO  o.a.p.FigureExtractorBatchCli$ - No errors\n",
      "\u001b[0m[\u001b[0m\u001b[32msuccess\u001b[0m] \u001b[0m\u001b[0mTotal time: 4 s, completed Apr 1, 2024, 8:50:13 AM\u001b[0m\n",
      "\u001b[0J"
     ]
    },
    {
     "name": "stderr",
     "output_type": "stream",
     "text": [
      " 22%|██▏       | 11/50 [01:45<06:22,  9.80s/it]"
     ]
    },
    {
     "name": "stdout",
     "output_type": "stream",
     "text": [
      "\u001b[0m[\u001b[0m\u001b[0minfo\u001b[0m] \u001b[0m\u001b[0mwelcome to sbt 1.7.1 (Eclipse Adoptium Java 11.0.22)\u001b[0m\n",
      "\u001b[0m[\u001b[0m\u001b[0minfo\u001b[0m] \u001b[0m\u001b[0mloading settings for project testngrok-build from plugins.sbt ...\u001b[0m\n",
      "\u001b[0m[\u001b[0m\u001b[0minfo\u001b[0m] \u001b[0m\u001b[0mloading project definition from /home/runner/work/TestNgrok/TestNgrok/project\u001b[0m\n",
      "\u001b[0m[\u001b[0m\u001b[0minfo\u001b[0m] \u001b[0m\u001b[0mloading settings for project root from build.sbt ...\u001b[0m\n",
      "\u001b[0m[\u001b[0m\u001b[0minfo\u001b[0m] \u001b[0m\u001b[0mset current project to pdffigures2 (in build file:/home/runner/work/TestNgrok/TestNgrok/)\u001b[0m\n",
      "\u001b[0m[\u001b[0m\u001b[0minfo\u001b[0m] \u001b[0m\u001b[0mrunning org.allenai.pdffigures2.FigureExtractorBatchCli pdf_dir_tmp/ -s stat_file.json -m output_dir/ -d output_dir/ -e\u001b[0m\n",
      "08:50:20.812 [sbt-bg-threads-1] INFO  o.a.p.FigureExtractorBatchCli$ - Processing file 1810.12027v3.Deep_Reinforcement_Learning_based_Recommendation_with_Explicit_User_Item_Interactions_Modeling.pdf (1 of 1)\n",
      "08:50:21.551 [sbt-bg-threads-1] DEBUG o.a.p.FormattingTextExtractor$ - Found abstract, marking as body text\n",
      "08:50:21.625 [sbt-bg-threads-1] DEBUG o.a.pdffigures2.DocumentLayout$ - Document was two column\n",
      "08:50:21.692 [sbt-bg-threads-1] DEBUG o.a.pdffigures2.CaptionDetector$ - Applied filter All Caps Table Only, 16 remaining\n",
      "08:50:21.693 [sbt-bg-threads-1] DEBUG o.a.pdffigures2.CaptionDetector$ - Applied filter Abbreviated Fig Only, 14 remaining\n",
      "08:50:21.695 [sbt-bg-threads-1] DEBUG o.a.pdffigures2.FigureExtractor - On page 5\n",
      "08:50:21.742 [sbt-bg-threads-1] DEBUG o.a.pdffigures2.GraphicsExtractor$ - Found 8 graphic areas, 8 after cleaning\n",
      "08:50:21.798 [sbt-bg-threads-1] DEBUG o.a.pdffigures2.FigureExtractor - On page 1\n",
      "08:50:21.804 [sbt-bg-threads-1] DEBUG o.a.pdffigures2.GraphicsExtractor$ - Found 2 graphic areas, 2 after cleaning\n",
      "08:50:21.813 [sbt-bg-threads-1] DEBUG o.a.pdffigures2.FigureExtractor - On page 6\n",
      "08:50:21.821 [sbt-bg-threads-1] DEBUG o.a.pdffigures2.GraphicsExtractor$ - Found 5 graphic areas, 5 after cleaning\n",
      "08:50:21.829 [sbt-bg-threads-1] DEBUG o.a.pdffigures2.FigureExtractor - On page 9\n",
      "08:50:21.836 [sbt-bg-threads-1] DEBUG o.a.pdffigures2.GraphicsExtractor$ - Found 1 graphic areas, 1 after cleaning\n",
      "08:50:21.844 [sbt-bg-threads-1] DEBUG o.a.pdffigures2.FigureExtractor - On page 7\n",
      "08:50:21.850 [sbt-bg-threads-1] DEBUG o.a.pdffigures2.GraphicsExtractor$ - Found 2 graphic areas, 2 after cleaning\n",
      "08:50:21.855 [sbt-bg-threads-1] DEBUG o.a.pdffigures2.FigureExtractor - On page 3\n",
      "08:50:21.875 [sbt-bg-threads-1] DEBUG o.a.pdffigures2.GraphicsExtractor$ - Found 3 graphic areas, 3 after cleaning\n",
      "08:50:21.882 [sbt-bg-threads-1] DEBUG o.a.pdffigures2.FigureExtractor - On page 8\n",
      "08:50:21.889 [sbt-bg-threads-1] DEBUG o.a.pdffigures2.GraphicsExtractor$ - Found 9 graphic areas, 9 after cleaning\n",
      "08:50:21.898 [sbt-bg-threads-1] DEBUG o.a.pdffigures2.FigureExtractor - On page 4\n",
      "08:50:21.911 [sbt-bg-threads-1] DEBUG o.a.pdffigures2.GraphicsExtractor$ - Found 6 graphic areas, 6 after cleaning\n",
      "08:50:23.445 [sbt-bg-threads-1] INFO  o.a.p.FigureExtractorBatchCli$ - Finished 1810.12027v3.Deep_Reinforcement_Learning_based_Recommendation_with_Explicit_User_Item_Interactions_Modeling.pdf in 2.63 seconds\n",
      "08:50:23.446 [sbt-bg-threads-1] INFO  o.a.p.FigureExtractorBatchCli$ - Finished processing 1 files\n",
      "08:50:23.447 [sbt-bg-threads-1] INFO  o.a.p.FigureExtractorBatchCli$ - Took 2.636 seconds\n",
      "08:50:23.448 [sbt-bg-threads-1] INFO  o.a.p.FigureExtractorBatchCli$ - Stats saved to stat_file.json\n",
      "08:50:23.448 [sbt-bg-threads-1] INFO  o.a.p.FigureExtractorBatchCli$ - No errors\n",
      "\u001b[0m[\u001b[0m\u001b[32msuccess\u001b[0m] \u001b[0m\u001b[0mTotal time: 4 s, completed Apr 1, 2024, 8:50:23 AM\u001b[0m\n",
      "\u001b[0J"
     ]
    },
    {
     "name": "stderr",
     "output_type": "stream",
     "text": [
      " 24%|██▍       | 12/50 [01:55<06:08,  9.71s/it]"
     ]
    },
    {
     "name": "stdout",
     "output_type": "stream",
     "text": [
      "\u001b[0m[\u001b[0m\u001b[0minfo\u001b[0m] \u001b[0m\u001b[0mwelcome to sbt 1.7.1 (Eclipse Adoptium Java 11.0.22)\u001b[0m\n",
      "\u001b[0m[\u001b[0m\u001b[0minfo\u001b[0m] \u001b[0m\u001b[0mloading settings for project testngrok-build from plugins.sbt ...\u001b[0m\n",
      "\u001b[0m[\u001b[0m\u001b[0minfo\u001b[0m] \u001b[0m\u001b[0mloading project definition from /home/runner/work/TestNgrok/TestNgrok/project\u001b[0m\n"
     ]
    }
   ],
   "source": [
    "from tqdm import tqdm\n",
    "for p in tqdm(pdf_list):\n",
    "    !rm pdf_dir_tmp/*\n",
    "    path = 'pdf_dir' + '/' + p\n",
    "    !cp {path} pdf_dir_tmp/\n",
    "    !sbt \"runMain org.allenai.pdffigures2.FigureExtractorBatchCli pdf_dir_tmp/ -s stat_file.json -m output_dir/ -d output_dir/ -e\""
   ]
  },
  {
   "cell_type": "code",
   "execution_count": null,
   "id": "893ea65d-6eba-4683-bf93-e156a3a740c8",
   "metadata": {},
   "outputs": [],
   "source": [
    "# !sbt \"runMain org.allenai.pdffigures2.FigureExtractorBatchCli pdf_dir/ -s stat_file.json -m output_dir/ -d output_dir/ -e\""
   ]
  },
  {
   "cell_type": "code",
   "execution_count": 1,
   "id": "829a0803-b6cd-478b-b1ff-a61bbc73625b",
   "metadata": {},
   "outputs": [],
   "source": [
    "!find output_dir/ | grep -P \"Figure\" | xargs -i cp {} figures_tmp/"
   ]
  },
  {
   "cell_type": "code",
   "execution_count": 2,
   "id": "5edd506c-0de6-49e0-8619-856c6627024c",
   "metadata": {},
   "outputs": [
    {
     "name": "stdout",
     "output_type": "stream",
     "text": [
      "1606.07792v1.Wide_Deep_Learning_for_Recommender_Systems-Figure1-1.png\n",
      "1606.07792v1.Wide_Deep_Learning_for_Recommender_Systems-Figure2-1.png\n",
      "1606.07792v1.Wide_Deep_Learning_for_Recommender_Systems-Figure3-1.png\n",
      "1606.07792v1.Wide_Deep_Learning_for_Recommender_Systems-Figure4-1.png\n",
      "1701.04783v1.Joint_Deep_Modeling_of_Users_and_Items_Using_Reviews_for_Recommendation-Figure1-1.png\n",
      "1701.04783v1.Joint_Deep_Modeling_of_Users_and_Items_Using_Reviews_for_Recommendation-Figure2-1.png\n",
      "1701.04783v1.Joint_Deep_Modeling_of_Users_and_Items_Using_Reviews_for_Recommendation-Figure3-1.png\n",
      "1703.02344v1.Deep_Learning_based_Large_Scale_Visual_Recommendation_and_Search_for_E_Commerce-Figure2-1.png\n",
      "1703.02344v1.Deep_Learning_based_Large_Scale_Visual_Recommendation_and_Search_for_E_Commerce-Figure3-1.png\n",
      "1703.02344v1.Deep_Learning_based_Large_Scale_Visual_Recommendation_and_Search_for_E_Commerce-Figure4-1.png\n",
      "1703.02344v1.Deep_Learning_based_Large_Scale_Visual_Recommendation_and_Search_for_E_Commerce-Figure6-1.png\n",
      "1703.02344v1.Deep_Learning_based_Large_Scale_Visual_Recommendation_and_Search_for_E_Commerce-Figure7-1.png\n",
      "1703.02344v1.Deep_Learning_based_Large_Scale_Visual_Recommendation_and_Search_for_E_Commerce-Figure8-1.png\n",
      "1703.02344v1.Deep_Learning_based_Large_Scale_Visual_Recommendation_and_Search_for_E_Commerce-Figure9-1.png\n",
      "1707.07435v7.Deep_Learning_based_Recommender_System_A_Survey_and_New_Perspectives-Figure1-1.png\n",
      "1707.07435v7.Deep_Learning_based_Recommender_System_A_Survey_and_New_Perspectives-Figure2-1.png\n",
      "1707.07435v7.Deep_Learning_based_Recommender_System_A_Survey_and_New_Perspectives-Figure3-1.png\n",
      "1707.07435v7.Deep_Learning_based_Recommender_System_A_Survey_and_New_Perspectives-Figure4-1.png\n",
      "1707.07435v7.Deep_Learning_based_Recommender_System_A_Survey_and_New_Perspectives-Figure5-1.png\n",
      "1707.07435v7.Deep_Learning_based_Recommender_System_A_Survey_and_New_Perspectives-Figure6-1.png\n",
      "1711.02487v3.Deep_density_networks_and_uncertainty_in_recommender_systems-Figure1-1.png\n",
      "1711.02487v3.Deep_density_networks_and_uncertainty_in_recommender_systems-Figure2-1.png\n",
      "1711.02487v3.Deep_density_networks_and_uncertainty_in_recommender_systems-Figure3-1.png\n",
      "1711.02487v3.Deep_density_networks_and_uncertainty_in_recommender_systems-Figure4-1.png\n",
      "1711.02487v3.Deep_density_networks_and_uncertainty_in_recommender_systems-Figure5-1.png\n",
      "1711.02487v3.Deep_density_networks_and_uncertainty_in_recommender_systems-Figure6-1.png\n",
      "1711.02487v3.Deep_density_networks_and_uncertainty_in_recommender_systems-Figure7-1.png\n",
      "1801.00209v3.Deep_Reinforcement_Learning_for_List_wise_Recommendations-Figure1-1.png\n",
      "1801.00209v3.Deep_Reinforcement_Learning_for_List_wise_Recommendations-Figure2-1.png\n",
      "1801.00209v3.Deep_Reinforcement_Learning_for_List_wise_Recommendations-Figure3-1.png\n",
      "1801.00209v3.Deep_Reinforcement_Learning_for_List_wise_Recommendations-Figure4-1.png\n",
      "1801.00209v3.Deep_Reinforcement_Learning_for_List_wise_Recommendations-Figure5-1.png\n",
      "1801.00209v3.Deep_Reinforcement_Learning_for_List_wise_Recommendations-Figure6-1.png\n",
      "1801.02294v5.Learning_Tree_based_Deep_Model_for_Recommender_Systems-Figure1-1.png\n",
      "1801.02294v5.Learning_Tree_based_Deep_Model_for_Recommender_Systems-Figure2-1.png\n",
      "1801.02294v5.Learning_Tree_based_Deep_Model_for_Recommender_Systems-Figure3-1.png\n",
      "1801.02294v5.Learning_Tree_based_Deep_Model_for_Recommender_Systems-Figure4-1.png\n",
      "1801.02294v5.Learning_Tree_based_Deep_Model_for_Recommender_Systems-Figure5-1.png\n",
      "1802.06501v3.Recommendations_with_Negative_Feedback_via_Pairwise_Deep_Reinforcement_Learning-Figure1-1.png\n",
      "1802.06501v3.Recommendations_with_Negative_Feedback_via_Pairwise_Deep_Reinforcement_Learning-Figure3-1.png\n",
      "1802.06501v3.Recommendations_with_Negative_Feedback_via_Pairwise_Deep_Reinforcement_Learning-Figure4-1.png\n",
      "1802.06501v3.Recommendations_with_Negative_Feedback_via_Pairwise_Deep_Reinforcement_Learning-Figure5-1.png\n",
      "1802.06501v3.Recommendations_with_Negative_Feedback_via_Pairwise_Deep_Reinforcement_Learning-Figure7-1.png\n",
      "1805.02343v2.Deep_Reinforcement_Learning_for_Page_wise_Recommendations-Figure1-1.png\n",
      "1805.02343v2.Deep_Reinforcement_Learning_for_Page_wise_Recommendations-Figure2-1.png\n",
      "1805.02343v2.Deep_Reinforcement_Learning_for_Page_wise_Recommendations-Figure3-1.png\n",
      "1805.02343v2.Deep_Reinforcement_Learning_for_Page_wise_Recommendations-Figure5-1.png\n",
      "1805.02343v2.Deep_Reinforcement_Learning_for_Page_wise_Recommendations-Figure6-1.png\n",
      "1805.02343v2.Deep_Reinforcement_Learning_for_Page_wise_Recommendations-Figure7-1.png\n",
      "1808.00076v3.News_Session_Based_Recommendations_using_Deep_Neural_Networks-Figure1-1.png\n",
      "1808.00076v3.News_Session_Based_Recommendations_using_Deep_Neural_Networks-Figure10-1.png\n",
      "1808.00076v3.News_Session_Based_Recommendations_using_Deep_Neural_Networks-Figure2-1.png\n",
      "1808.00076v3.News_Session_Based_Recommendations_using_Deep_Neural_Networks-Figure3-1.png\n",
      "1808.00076v3.News_Session_Based_Recommendations_using_Deep_Neural_Networks-Figure4-1.png\n",
      "1808.00076v3.News_Session_Based_Recommendations_using_Deep_Neural_Networks-Figure5-1.png\n",
      "1808.00076v3.News_Session_Based_Recommendations_using_Deep_Neural_Networks-Figure6-1.png\n",
      "1808.00076v3.News_Session_Based_Recommendations_using_Deep_Neural_Networks-Figure7-1.png\n",
      "1808.00076v3.News_Session_Based_Recommendations_using_Deep_Neural_Networks-Figure8-1.png\n",
      "1808.00076v3.News_Session_Based_Recommendations_using_Deep_Neural_Networks-Figure9-1.png\n",
      "1810.12027v3.Deep_Reinforcement_Learning_based_Recommendation_with_Explicit_User_Item_Interactions_Modeling-Figure1-1.png\n",
      "1810.12027v3.Deep_Reinforcement_Learning_based_Recommendation_with_Explicit_User_Item_Interactions_Modeling-Figure2-1.png\n",
      "1810.12027v3.Deep_Reinforcement_Learning_based_Recommendation_with_Explicit_User_Item_Interactions_Modeling-Figure3-1.png\n",
      "1810.12027v3.Deep_Reinforcement_Learning_based_Recommendation_with_Explicit_User_Item_Interactions_Modeling-Figure4-1.png\n",
      "1810.12027v3.Deep_Reinforcement_Learning_based_Recommendation_with_Explicit_User_Item_Interactions_Modeling-Figure5-1.png\n",
      "1810.12027v3.Deep_Reinforcement_Learning_based_Recommendation_with_Explicit_User_Item_Interactions_Modeling-Figure6-1.png\n",
      "1810.12027v3.Deep_Reinforcement_Learning_based_Recommendation_with_Explicit_User_Item_Interactions_Modeling-Figure7-1.png\n"
     ]
    }
   ],
   "source": [
    "!ls figures_tmp"
   ]
  },
  {
   "cell_type": "code",
   "execution_count": 3,
   "id": "88576f2d-94d3-4636-a579-30aecacd8492",
   "metadata": {},
   "outputs": [
    {
     "name": "stdout",
     "output_type": "stream",
     "text": [
      "/home/runner/work/TestNgrok/TestNgrok\n"
     ]
    }
   ],
   "source": [
    "!pwd"
   ]
  },
  {
   "cell_type": "code",
   "execution_count": null,
   "id": "268cf144-9992-422a-8009-d4ff5cf3fbff",
   "metadata": {},
   "outputs": [],
   "source": []
  }
 ],
 "metadata": {
  "kernelspec": {
   "display_name": "Python 3 (ipykernel)",
   "language": "python",
   "name": "python3"
  },
  "language_info": {
   "codemirror_mode": {
    "name": "ipython",
    "version": 3
   },
   "file_extension": ".py",
   "mimetype": "text/x-python",
   "name": "python",
   "nbconvert_exporter": "python",
   "pygments_lexer": "ipython3",
   "version": "3.10.12"
  }
 },
 "nbformat": 4,
 "nbformat_minor": 5
}
